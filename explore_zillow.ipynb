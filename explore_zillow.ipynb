{
 "cells": [
  {
   "cell_type": "markdown",
   "id": "5e9551c0",
   "metadata": {},
   "source": [
    "# Explore"
   ]
  },
  {
   "cell_type": "markdown",
   "id": "731731cb",
   "metadata": {},
   "source": [
    "## Import Libraries"
   ]
  },
  {
   "cell_type": "code",
   "execution_count": 1,
   "id": "d3a435a4",
   "metadata": {},
   "outputs": [],
   "source": [
    "#Disable warnings\n",
    "import warnings\n",
    "warnings.filterwarnings(\"ignore\")\n",
    "\n",
    "#Libraries for processing data\n",
    "import pandas as pd\n",
    "import numpy as np\n",
    "\n",
    "#Import libraries for graphing\n",
    "import matplotlib.pyplot as plt\n",
    "import matplotlib.ticker as ticker\n",
    "import seaborn as sns\n",
    "\n",
    "#Libraries for obtaining data from SQL databse\n",
    "import env\n",
    "import os\n",
    "\n",
    "#Library for statistical testing\n",
    "from scipy import stats\n",
    "\n",
    "##Acquire function\n",
    "from wrangle_zillow import wrangle_zillow\n",
    "from wrangle_zillow import split_data\n",
    "\n",
    "#Train, test, split\n",
    "from sklearn.model_selection import train_test_split\n",
    "\n",
    "#Library for dealing with NA values\n",
    "from sklearn.impute import SimpleImputer\n",
    "\n",
    "#Library needed for scaling the data\n",
    "import sklearn.preprocessing"
   ]
  },
  {
   "cell_type": "markdown",
   "id": "5e0abe6d",
   "metadata": {},
   "source": [
    "## Import Zillow Dataset"
   ]
  },
  {
   "cell_type": "code",
   "execution_count": 2,
   "id": "b8d728ab",
   "metadata": {},
   "outputs": [],
   "source": [
    "df = wrangle_zillow()"
   ]
  },
  {
   "cell_type": "code",
   "execution_count": 3,
   "id": "ab9a41a7",
   "metadata": {},
   "outputs": [
    {
     "data": {
      "text/html": [
       "<div>\n",
       "<style scoped>\n",
       "    .dataframe tbody tr th:only-of-type {\n",
       "        vertical-align: middle;\n",
       "    }\n",
       "\n",
       "    .dataframe tbody tr th {\n",
       "        vertical-align: top;\n",
       "    }\n",
       "\n",
       "    .dataframe thead th {\n",
       "        text-align: right;\n",
       "    }\n",
       "</style>\n",
       "<table border=\"1\" class=\"dataframe\">\n",
       "  <thead>\n",
       "    <tr style=\"text-align: right;\">\n",
       "      <th></th>\n",
       "      <th>propertylandusetypeid</th>\n",
       "      <th>id</th>\n",
       "      <th>heatingorsystemtypeid</th>\n",
       "      <th>parcelid</th>\n",
       "      <th>bathroomcnt</th>\n",
       "      <th>bedroomcnt</th>\n",
       "      <th>buildingqualitytypeid</th>\n",
       "      <th>calculatedbathnbr</th>\n",
       "      <th>calculatedfinishedsquarefeet</th>\n",
       "      <th>finishedsquarefeet12</th>\n",
       "      <th>...</th>\n",
       "      <th>taxvaluedollarcnt</th>\n",
       "      <th>assessmentyear</th>\n",
       "      <th>landtaxvaluedollarcnt</th>\n",
       "      <th>taxamount</th>\n",
       "      <th>censustractandblock</th>\n",
       "      <th>heatingorsystemdesc</th>\n",
       "      <th>logerror</th>\n",
       "      <th>transactiondate</th>\n",
       "      <th>last_trans_date</th>\n",
       "      <th>propertylandusedesc</th>\n",
       "    </tr>\n",
       "  </thead>\n",
       "  <tbody>\n",
       "    <tr>\n",
       "      <th>10</th>\n",
       "      <td>269.0</td>\n",
       "      <td>10</td>\n",
       "      <td>2.0</td>\n",
       "      <td>11070347</td>\n",
       "      <td>4.0</td>\n",
       "      <td>4.0</td>\n",
       "      <td>1.0</td>\n",
       "      <td>4.0</td>\n",
       "      <td>3095.0</td>\n",
       "      <td>3095.0</td>\n",
       "      <td>...</td>\n",
       "      <td>192544.0</td>\n",
       "      <td>2016.0</td>\n",
       "      <td>53784.0</td>\n",
       "      <td>2460.72</td>\n",
       "      <td>NaN</td>\n",
       "      <td>Central</td>\n",
       "      <td>0.005963</td>\n",
       "      <td>2017-01-02</td>\n",
       "      <td>2017-01-02</td>\n",
       "      <td>Planned Unit Development</td>\n",
       "    </tr>\n",
       "    <tr>\n",
       "      <th>20</th>\n",
       "      <td>261.0</td>\n",
       "      <td>20</td>\n",
       "      <td>2.0</td>\n",
       "      <td>11324547</td>\n",
       "      <td>2.0</td>\n",
       "      <td>4.0</td>\n",
       "      <td>8.0</td>\n",
       "      <td>2.0</td>\n",
       "      <td>3633.0</td>\n",
       "      <td>3633.0</td>\n",
       "      <td>...</td>\n",
       "      <td>296425.0</td>\n",
       "      <td>2016.0</td>\n",
       "      <td>74104.0</td>\n",
       "      <td>6941.39</td>\n",
       "      <td>NaN</td>\n",
       "      <td>Central</td>\n",
       "      <td>0.042463</td>\n",
       "      <td>2017-01-02</td>\n",
       "      <td>2017-01-02</td>\n",
       "      <td>Single Family Residential</td>\n",
       "    </tr>\n",
       "    <tr>\n",
       "      <th>30</th>\n",
       "      <td>266.0</td>\n",
       "      <td>30</td>\n",
       "      <td>2.0</td>\n",
       "      <td>11524947</td>\n",
       "      <td>2.0</td>\n",
       "      <td>2.0</td>\n",
       "      <td>7.0</td>\n",
       "      <td>2.0</td>\n",
       "      <td>1090.0</td>\n",
       "      <td>1090.0</td>\n",
       "      <td>...</td>\n",
       "      <td>357568.0</td>\n",
       "      <td>2016.0</td>\n",
       "      <td>124671.0</td>\n",
       "      <td>6165.36</td>\n",
       "      <td>NaN</td>\n",
       "      <td>Central</td>\n",
       "      <td>0.021853</td>\n",
       "      <td>2017-01-02</td>\n",
       "      <td>2017-01-02</td>\n",
       "      <td>Condominium</td>\n",
       "    </tr>\n",
       "    <tr>\n",
       "      <th>31</th>\n",
       "      <td>261.0</td>\n",
       "      <td>31</td>\n",
       "      <td>2.0</td>\n",
       "      <td>11544747</td>\n",
       "      <td>4.0</td>\n",
       "      <td>3.0</td>\n",
       "      <td>11.0</td>\n",
       "      <td>4.0</td>\n",
       "      <td>1620.0</td>\n",
       "      <td>1620.0</td>\n",
       "      <td>...</td>\n",
       "      <td>847770.0</td>\n",
       "      <td>2016.0</td>\n",
       "      <td>508238.0</td>\n",
       "      <td>10244.94</td>\n",
       "      <td>NaN</td>\n",
       "      <td>Central</td>\n",
       "      <td>-0.019546</td>\n",
       "      <td>2017-01-02</td>\n",
       "      <td>2017-01-02</td>\n",
       "      <td>Single Family Residential</td>\n",
       "    </tr>\n",
       "    <tr>\n",
       "      <th>33</th>\n",
       "      <td>261.0</td>\n",
       "      <td>33</td>\n",
       "      <td>2.0</td>\n",
       "      <td>11585547</td>\n",
       "      <td>2.0</td>\n",
       "      <td>3.0</td>\n",
       "      <td>8.0</td>\n",
       "      <td>2.0</td>\n",
       "      <td>2077.0</td>\n",
       "      <td>2077.0</td>\n",
       "      <td>...</td>\n",
       "      <td>646760.0</td>\n",
       "      <td>2016.0</td>\n",
       "      <td>436568.0</td>\n",
       "      <td>7924.68</td>\n",
       "      <td>NaN</td>\n",
       "      <td>Central</td>\n",
       "      <td>-0.040807</td>\n",
       "      <td>2017-01-02</td>\n",
       "      <td>2017-01-02</td>\n",
       "      <td>Single Family Residential</td>\n",
       "    </tr>\n",
       "  </tbody>\n",
       "</table>\n",
       "<p>5 rows × 35 columns</p>\n",
       "</div>"
      ],
      "text/plain": [
       "    propertylandusetypeid  id  heatingorsystemtypeid  parcelid  bathroomcnt  \\\n",
       "10                  269.0  10                    2.0  11070347          4.0   \n",
       "20                  261.0  20                    2.0  11324547          2.0   \n",
       "30                  266.0  30                    2.0  11524947          2.0   \n",
       "31                  261.0  31                    2.0  11544747          4.0   \n",
       "33                  261.0  33                    2.0  11585547          2.0   \n",
       "\n",
       "    bedroomcnt  buildingqualitytypeid  calculatedbathnbr  \\\n",
       "10         4.0                    1.0                4.0   \n",
       "20         4.0                    8.0                2.0   \n",
       "30         2.0                    7.0                2.0   \n",
       "31         3.0                   11.0                4.0   \n",
       "33         3.0                    8.0                2.0   \n",
       "\n",
       "    calculatedfinishedsquarefeet  finishedsquarefeet12  ...  \\\n",
       "10                        3095.0                3095.0  ...   \n",
       "20                        3633.0                3633.0  ...   \n",
       "30                        1090.0                1090.0  ...   \n",
       "31                        1620.0                1620.0  ...   \n",
       "33                        2077.0                2077.0  ...   \n",
       "\n",
       "    taxvaluedollarcnt  assessmentyear  landtaxvaluedollarcnt  taxamount  \\\n",
       "10           192544.0          2016.0                53784.0    2460.72   \n",
       "20           296425.0          2016.0                74104.0    6941.39   \n",
       "30           357568.0          2016.0               124671.0    6165.36   \n",
       "31           847770.0          2016.0               508238.0   10244.94   \n",
       "33           646760.0          2016.0               436568.0    7924.68   \n",
       "\n",
       "    censustractandblock heatingorsystemdesc  logerror  transactiondate  \\\n",
       "10                  NaN             Central  0.005963       2017-01-02   \n",
       "20                  NaN             Central  0.042463       2017-01-02   \n",
       "30                  NaN             Central  0.021853       2017-01-02   \n",
       "31                  NaN             Central -0.019546       2017-01-02   \n",
       "33                  NaN             Central -0.040807       2017-01-02   \n",
       "\n",
       "    last_trans_date        propertylandusedesc  \n",
       "10       2017-01-02   Planned Unit Development  \n",
       "20       2017-01-02  Single Family Residential  \n",
       "30       2017-01-02                Condominium  \n",
       "31       2017-01-02  Single Family Residential  \n",
       "33       2017-01-02  Single Family Residential  \n",
       "\n",
       "[5 rows x 35 columns]"
      ]
     },
     "execution_count": 3,
     "metadata": {},
     "output_type": "execute_result"
    }
   ],
   "source": [
    "df.head()"
   ]
  },
  {
   "cell_type": "code",
   "execution_count": 4,
   "id": "44445190",
   "metadata": {},
   "outputs": [],
   "source": [
    "#Now we will replace the null values with the mean value of each column\n",
    "def impute_null_values(df):\n",
    "    '''\n",
    "    We will use SimpleImputer to impute the mean value into the null values into each column.\n",
    "    '''\n",
    "    #We will use the mean imputer function.\n",
    "    imputer = SimpleImputer(strategy='most_frequent')\n",
    "\n",
    "    #We will create a for loop that will impute all the null values in each one of our columns.\n",
    "    for col in df.columns:\n",
    "        df[[col]] = imputer.fit_transform(df[[col]])\n",
    "    \n",
    "    return df"
   ]
  },
  {
   "cell_type": "code",
   "execution_count": 5,
   "id": "ec1294c1",
   "metadata": {},
   "outputs": [],
   "source": [
    "df = impute_null_values(df)"
   ]
  },
  {
   "cell_type": "code",
   "execution_count": 6,
   "id": "c60df20d",
   "metadata": {},
   "outputs": [],
   "source": [
    "train, validate, test = split_data(df)"
   ]
  },
  {
   "cell_type": "code",
   "execution_count": 60,
   "id": "06bcd886",
   "metadata": {},
   "outputs": [
    {
     "data": {
      "text/html": [
       "<div>\n",
       "<style scoped>\n",
       "    .dataframe tbody tr th:only-of-type {\n",
       "        vertical-align: middle;\n",
       "    }\n",
       "\n",
       "    .dataframe tbody tr th {\n",
       "        vertical-align: top;\n",
       "    }\n",
       "\n",
       "    .dataframe thead th {\n",
       "        text-align: right;\n",
       "    }\n",
       "</style>\n",
       "<table border=\"1\" class=\"dataframe\">\n",
       "  <thead>\n",
       "    <tr style=\"text-align: right;\">\n",
       "      <th></th>\n",
       "      <th>propertylandusetypeid</th>\n",
       "      <th>id</th>\n",
       "      <th>heatingorsystemtypeid</th>\n",
       "      <th>parcelid</th>\n",
       "      <th>bathroomcnt</th>\n",
       "      <th>bedroomcnt</th>\n",
       "      <th>buildingqualitytypeid</th>\n",
       "      <th>calculatedbathnbr</th>\n",
       "      <th>calculatedfinishedsquarefeet</th>\n",
       "      <th>finishedsquarefeet12</th>\n",
       "      <th>...</th>\n",
       "      <th>taxvaluedollarcnt</th>\n",
       "      <th>assessmentyear</th>\n",
       "      <th>landtaxvaluedollarcnt</th>\n",
       "      <th>taxamount</th>\n",
       "      <th>censustractandblock</th>\n",
       "      <th>heatingorsystemdesc</th>\n",
       "      <th>logerror</th>\n",
       "      <th>transactiondate</th>\n",
       "      <th>last_trans_date</th>\n",
       "      <th>propertylandusedesc</th>\n",
       "    </tr>\n",
       "  </thead>\n",
       "  <tbody>\n",
       "    <tr>\n",
       "      <th>2462</th>\n",
       "      <td>261.0</td>\n",
       "      <td>2462.0</td>\n",
       "      <td>2.0</td>\n",
       "      <td>11020724.0</td>\n",
       "      <td>2.0</td>\n",
       "      <td>3.0</td>\n",
       "      <td>6.0</td>\n",
       "      <td>2.0</td>\n",
       "      <td>1406.0</td>\n",
       "      <td>1406.0</td>\n",
       "      <td>...</td>\n",
       "      <td>460200.0</td>\n",
       "      <td>2016.0</td>\n",
       "      <td>360400.0</td>\n",
       "      <td>5727.60</td>\n",
       "      <td>6.037110e+13</td>\n",
       "      <td>Central</td>\n",
       "      <td>-0.009313</td>\n",
       "      <td>2017-01-12</td>\n",
       "      <td>2017-01-12</td>\n",
       "      <td>Single Family Residential</td>\n",
       "    </tr>\n",
       "    <tr>\n",
       "      <th>74293</th>\n",
       "      <td>261.0</td>\n",
       "      <td>74293.0</td>\n",
       "      <td>2.0</td>\n",
       "      <td>11089877.0</td>\n",
       "      <td>2.0</td>\n",
       "      <td>4.0</td>\n",
       "      <td>6.0</td>\n",
       "      <td>2.0</td>\n",
       "      <td>1665.0</td>\n",
       "      <td>1665.0</td>\n",
       "      <td>...</td>\n",
       "      <td>252423.0</td>\n",
       "      <td>2016.0</td>\n",
       "      <td>94356.0</td>\n",
       "      <td>3163.81</td>\n",
       "      <td>6.037113e+13</td>\n",
       "      <td>Central</td>\n",
       "      <td>0.109348</td>\n",
       "      <td>2017-09-07</td>\n",
       "      <td>2017-09-07</td>\n",
       "      <td>Single Family Residential</td>\n",
       "    </tr>\n",
       "    <tr>\n",
       "      <th>47347</th>\n",
       "      <td>261.0</td>\n",
       "      <td>47347.0</td>\n",
       "      <td>2.0</td>\n",
       "      <td>11075321.0</td>\n",
       "      <td>3.0</td>\n",
       "      <td>4.0</td>\n",
       "      <td>8.0</td>\n",
       "      <td>3.0</td>\n",
       "      <td>2365.0</td>\n",
       "      <td>2365.0</td>\n",
       "      <td>...</td>\n",
       "      <td>355893.0</td>\n",
       "      <td>2016.0</td>\n",
       "      <td>173410.0</td>\n",
       "      <td>4548.83</td>\n",
       "      <td>6.037111e+13</td>\n",
       "      <td>Central</td>\n",
       "      <td>0.006360</td>\n",
       "      <td>2017-06-16</td>\n",
       "      <td>2017-06-16</td>\n",
       "      <td>Single Family Residential</td>\n",
       "    </tr>\n",
       "    <tr>\n",
       "      <th>32586</th>\n",
       "      <td>261.0</td>\n",
       "      <td>32586.0</td>\n",
       "      <td>2.0</td>\n",
       "      <td>11088659.0</td>\n",
       "      <td>2.0</td>\n",
       "      <td>3.0</td>\n",
       "      <td>6.0</td>\n",
       "      <td>2.0</td>\n",
       "      <td>1348.0</td>\n",
       "      <td>1348.0</td>\n",
       "      <td>...</td>\n",
       "      <td>267039.0</td>\n",
       "      <td>2016.0</td>\n",
       "      <td>134526.0</td>\n",
       "      <td>3412.71</td>\n",
       "      <td>6.037113e+13</td>\n",
       "      <td>Central</td>\n",
       "      <td>0.011047</td>\n",
       "      <td>2017-05-03</td>\n",
       "      <td>2017-05-03</td>\n",
       "      <td>Single Family Residential</td>\n",
       "    </tr>\n",
       "    <tr>\n",
       "      <th>51749</th>\n",
       "      <td>261.0</td>\n",
       "      <td>51749.0</td>\n",
       "      <td>7.0</td>\n",
       "      <td>12342656.0</td>\n",
       "      <td>1.0</td>\n",
       "      <td>3.0</td>\n",
       "      <td>4.0</td>\n",
       "      <td>1.0</td>\n",
       "      <td>1062.0</td>\n",
       "      <td>1062.0</td>\n",
       "      <td>...</td>\n",
       "      <td>235767.0</td>\n",
       "      <td>2016.0</td>\n",
       "      <td>167237.0</td>\n",
       "      <td>2988.15</td>\n",
       "      <td>6.037554e+13</td>\n",
       "      <td>Floor/Wall</td>\n",
       "      <td>0.021502</td>\n",
       "      <td>2017-06-29</td>\n",
       "      <td>2017-06-29</td>\n",
       "      <td>Single Family Residential</td>\n",
       "    </tr>\n",
       "  </tbody>\n",
       "</table>\n",
       "<p>5 rows × 35 columns</p>\n",
       "</div>"
      ],
      "text/plain": [
       "       propertylandusetypeid       id  heatingorsystemtypeid    parcelid  \\\n",
       "2462                   261.0   2462.0                    2.0  11020724.0   \n",
       "74293                  261.0  74293.0                    2.0  11089877.0   \n",
       "47347                  261.0  47347.0                    2.0  11075321.0   \n",
       "32586                  261.0  32586.0                    2.0  11088659.0   \n",
       "51749                  261.0  51749.0                    7.0  12342656.0   \n",
       "\n",
       "       bathroomcnt  bedroomcnt  buildingqualitytypeid  calculatedbathnbr  \\\n",
       "2462           2.0         3.0                    6.0                2.0   \n",
       "74293          2.0         4.0                    6.0                2.0   \n",
       "47347          3.0         4.0                    8.0                3.0   \n",
       "32586          2.0         3.0                    6.0                2.0   \n",
       "51749          1.0         3.0                    4.0                1.0   \n",
       "\n",
       "       calculatedfinishedsquarefeet  finishedsquarefeet12  ...  \\\n",
       "2462                         1406.0                1406.0  ...   \n",
       "74293                        1665.0                1665.0  ...   \n",
       "47347                        2365.0                2365.0  ...   \n",
       "32586                        1348.0                1348.0  ...   \n",
       "51749                        1062.0                1062.0  ...   \n",
       "\n",
       "       taxvaluedollarcnt  assessmentyear  landtaxvaluedollarcnt  taxamount  \\\n",
       "2462            460200.0          2016.0               360400.0    5727.60   \n",
       "74293           252423.0          2016.0                94356.0    3163.81   \n",
       "47347           355893.0          2016.0               173410.0    4548.83   \n",
       "32586           267039.0          2016.0               134526.0    3412.71   \n",
       "51749           235767.0          2016.0               167237.0    2988.15   \n",
       "\n",
       "       censustractandblock heatingorsystemdesc  logerror  transactiondate  \\\n",
       "2462          6.037110e+13             Central -0.009313       2017-01-12   \n",
       "74293         6.037113e+13             Central  0.109348       2017-09-07   \n",
       "47347         6.037111e+13             Central  0.006360       2017-06-16   \n",
       "32586         6.037113e+13             Central  0.011047       2017-05-03   \n",
       "51749         6.037554e+13          Floor/Wall  0.021502       2017-06-29   \n",
       "\n",
       "       last_trans_date        propertylandusedesc  \n",
       "2462        2017-01-12  Single Family Residential  \n",
       "74293       2017-09-07  Single Family Residential  \n",
       "47347       2017-06-16  Single Family Residential  \n",
       "32586       2017-05-03  Single Family Residential  \n",
       "51749       2017-06-29  Single Family Residential  \n",
       "\n",
       "[5 rows x 35 columns]"
      ]
     },
     "execution_count": 60,
     "metadata": {},
     "output_type": "execute_result"
    }
   ],
   "source": [
    "train.head()"
   ]
  },
  {
   "cell_type": "code",
   "execution_count": 61,
   "id": "da9578cd",
   "metadata": {},
   "outputs": [
    {
     "name": "stdout",
     "output_type": "stream",
     "text": [
      "<class 'pandas.core.frame.DataFrame'>\n",
      "Int64Index: 39175 entries, 2462 to 18266\n",
      "Data columns (total 35 columns):\n",
      " #   Column                        Non-Null Count  Dtype  \n",
      "---  ------                        --------------  -----  \n",
      " 0   propertylandusetypeid         39175 non-null  float64\n",
      " 1   id                            39175 non-null  float64\n",
      " 2   heatingorsystemtypeid         39175 non-null  float64\n",
      " 3   parcelid                      39175 non-null  float64\n",
      " 4   bathroomcnt                   39175 non-null  float64\n",
      " 5   bedroomcnt                    39175 non-null  float64\n",
      " 6   buildingqualitytypeid         39175 non-null  float64\n",
      " 7   calculatedbathnbr             39175 non-null  float64\n",
      " 8   calculatedfinishedsquarefeet  39175 non-null  float64\n",
      " 9   finishedsquarefeet12          39175 non-null  float64\n",
      " 10  fips                          39175 non-null  float64\n",
      " 11  fullbathcnt                   39175 non-null  float64\n",
      " 12  latitude                      39175 non-null  float64\n",
      " 13  longitude                     39175 non-null  float64\n",
      " 14  lotsizesquarefeet             39175 non-null  float64\n",
      " 15  propertycountylandusecode     39175 non-null  object \n",
      " 16  propertyzoningdesc            25967 non-null  object \n",
      " 17  rawcensustractandblock        39175 non-null  float64\n",
      " 18  regionidcity                  39175 non-null  float64\n",
      " 19  regionidcounty                39175 non-null  float64\n",
      " 20  regionidzip                   39175 non-null  float64\n",
      " 21  roomcnt                       39175 non-null  float64\n",
      " 22  unitcnt                       39175 non-null  float64\n",
      " 23  yearbuilt                     39175 non-null  float64\n",
      " 24  structuretaxvaluedollarcnt    39175 non-null  float64\n",
      " 25  taxvaluedollarcnt             39175 non-null  float64\n",
      " 26  assessmentyear                39175 non-null  float64\n",
      " 27  landtaxvaluedollarcnt         39175 non-null  float64\n",
      " 28  taxamount                     39175 non-null  float64\n",
      " 29  censustractandblock           39175 non-null  float64\n",
      " 30  heatingorsystemdesc           26294 non-null  object \n",
      " 31  logerror                      39175 non-null  float64\n",
      " 32  transactiondate               39175 non-null  object \n",
      " 33  last_trans_date               39175 non-null  object \n",
      " 34  propertylandusedesc           39175 non-null  object \n",
      "dtypes: float64(29), object(6)\n",
      "memory usage: 10.8+ MB\n"
     ]
    }
   ],
   "source": [
    "train.info()"
   ]
  },
  {
   "cell_type": "markdown",
   "id": "97c5863f",
   "metadata": {},
   "source": [
    "## Does the logerror of a property differ by county?"
   ]
  },
  {
   "cell_type": "markdown",
   "id": "382b4073",
   "metadata": {},
   "source": [
    "### Graphs"
   ]
  },
  {
   "cell_type": "code",
   "execution_count": 7,
   "id": "80b5de40",
   "metadata": {},
   "outputs": [],
   "source": [
    "sns.set_palette(\"bright\")"
   ]
  },
  {
   "cell_type": "code",
   "execution_count": 63,
   "id": "3e928d13",
   "metadata": {},
   "outputs": [
    {
     "data": {
      "text/plain": [
       "6037.0    26042\n",
       "6059.0     9903\n",
       "6111.0     3230\n",
       "Name: fips, dtype: int64"
      ]
     },
     "execution_count": 63,
     "metadata": {},
     "output_type": "execute_result"
    }
   ],
   "source": [
    "train.fips.value_counts()"
   ]
  },
  {
   "cell_type": "code",
   "execution_count": 64,
   "id": "1542f215",
   "metadata": {},
   "outputs": [
    {
     "data": {
      "image/png": "[encoded data removed]",
      "text/plain": [
       "<Figure size 432x288 with 1 Axes>"
      ]
     },
     "metadata": {
      "needs_background": "light"
     },
     "output_type": "display_data"
    }
   ],
   "source": [
    "county_log_error = sns.barplot(data = train, y = 'logerror', x = 'fips')\n",
    "title = plt.title(\"Barplot: Is there a difference in the logerror of a property depending on the county?\")\n",
    "xlabel = plt.xlabel(\"County\")\n",
    "ylabel = plt.ylabel(\"LogError\")\n",
    "xticks = county_log_error.set_xticklabels([\"Los Angeles, 6037\", \"Orange, 6059\", \"Ventura, 6111\"])"
   ]
  },
  {
   "cell_type": "code",
   "execution_count": 65,
   "id": "56e2e1f1",
   "metadata": {},
   "outputs": [
    {
     "data": {
      "image/png": "[encoded data removed]",
      "text/plain": [
       "<Figure size 432x288 with 1 Axes>"
      ]
     },
     "metadata": {
      "needs_background": "light"
     },
     "output_type": "display_data"
    }
   ],
   "source": [
    "county_log_error = sns.violinplot(data = train, y = 'logerror', x = 'fips')\n",
    "title = plt.title(\"Boxplot: Is there a difference in the logerror of a property depending on the county?\")\n",
    "xlabel = plt.xlabel(\"County\")\n",
    "ylabel = plt.ylabel(\"LogError\")\n",
    "xticks = county_log_error.set_xticklabels([\"Los Angeles\", \"Orange\", \"Ventura\"])"
   ]
  },
  {
   "cell_type": "markdown",
   "id": "1bfd1d6f",
   "metadata": {},
   "source": [
    "### Statistical Testing"
   ]
  },
  {
   "cell_type": "markdown",
   "id": "e626a3d8",
   "metadata": {},
   "source": [
    "#### Leven's Test"
   ]
  },
  {
   "cell_type": "markdown",
   "id": "ccb4fd88",
   "metadata": {},
   "source": [
    "$H_0$: There is no difference in log error variance between Los Angeles and Orange County. \n",
    "\n",
    "$H_a$: There is a significant different in log error variance between Los Angeles and Orange County."
   ]
  },
  {
   "cell_type": "code",
   "execution_count": 66,
   "id": "bac12d11",
   "metadata": {},
   "outputs": [
    {
     "data": {
      "text/plain": [
       "LeveneResult(statistic=0.2922519988069781, pvalue=0.5887843475165777)"
      ]
     },
     "execution_count": 66,
     "metadata": {},
     "output_type": "execute_result"
    }
   ],
   "source": [
    "stats.levene(\n",
    "    train.query('fips == 6037.0').logerror,\n",
    "    train.query('fips == 6059.0').logerror,\n",
    ")"
   ]
  },
  {
   "cell_type": "markdown",
   "id": "ff58e714",
   "metadata": {},
   "source": [
    "Because of a high p-value, we fail to reject the null hypothesis."
   ]
  },
  {
   "cell_type": "markdown",
   "id": "6f77733b",
   "metadata": {},
   "source": [
    "$H_0$: There is no difference in log error variance between Los Angeles and Ventura County. \n",
    "\n",
    "$H_a$: There is a significant different in log error variance between Los Angeles and Ventura County."
   ]
  },
  {
   "cell_type": "code",
   "execution_count": 67,
   "id": "3425ce0d",
   "metadata": {},
   "outputs": [
    {
     "data": {
      "text/plain": [
       "LeveneResult(statistic=0.811996093595627, pvalue=0.3675381765653868)"
      ]
     },
     "execution_count": 67,
     "metadata": {},
     "output_type": "execute_result"
    }
   ],
   "source": [
    "stats.levene(\n",
    "    train.query('fips == 6037.0').logerror,\n",
    "    train.query('fips == 6111.0').logerror,\n",
    ")"
   ]
  },
  {
   "cell_type": "markdown",
   "id": "a7be3530",
   "metadata": {},
   "source": [
    "Because of a high p-value, we fail to reject the null hypothesis."
   ]
  },
  {
   "cell_type": "markdown",
   "id": "3e8b67d5",
   "metadata": {},
   "source": [
    "$H_0$: There is no difference in log error variance between Orange and Ventura County. \n",
    "\n",
    "$H_a$: There is a significant different in log error variance between Orange and Ventura County."
   ]
  },
  {
   "cell_type": "code",
   "execution_count": 68,
   "id": "6805aa71",
   "metadata": {},
   "outputs": [
    {
     "data": {
      "text/plain": [
       "LeveneResult(statistic=0.26029144489707706, pvalue=0.6099285743995952)"
      ]
     },
     "execution_count": 68,
     "metadata": {},
     "output_type": "execute_result"
    }
   ],
   "source": [
    "stats.levene(\n",
    "    train.query('fips == 6059.0').logerror,\n",
    "    train.query('fips == 6111.0').logerror,\n",
    ")"
   ]
  },
  {
   "cell_type": "markdown",
   "id": "5886d54d",
   "metadata": {},
   "source": [
    "Because of a high p-value, we fail to reject the null hypothesis."
   ]
  },
  {
   "cell_type": "markdown",
   "id": "e7785e38",
   "metadata": {},
   "source": [
    "#### T test"
   ]
  },
  {
   "cell_type": "code",
   "execution_count": 69,
   "id": "de9d7991",
   "metadata": {},
   "outputs": [
    {
     "data": {
      "text/plain": [
       "Ttest_indResult(statistic=0.3744968199332362, pvalue=0.7080369314010183)"
      ]
     },
     "execution_count": 69,
     "metadata": {},
     "output_type": "execute_result"
    }
   ],
   "source": [
    "stats.ttest_ind(\n",
    "    train.query('fips == 6037.0').logerror,\n",
    "    train.query('fips == 6059.0').logerror,\n",
    "    equal_var = True\n",
    ")"
   ]
  },
  {
   "cell_type": "code",
   "execution_count": 70,
   "id": "fb3fb904",
   "metadata": {},
   "outputs": [
    {
     "data": {
      "text/plain": [
       "Ttest_indResult(statistic=-2.7295762208762, pvalue=0.006345368610063448)"
      ]
     },
     "execution_count": 70,
     "metadata": {},
     "output_type": "execute_result"
    }
   ],
   "source": [
    "stats.ttest_ind(\n",
    "    train.query('fips == 6037.0').logerror,\n",
    "    train.query('fips == 6111.0').logerror,\n",
    "    equal_var = True\n",
    ")"
   ]
  },
  {
   "cell_type": "code",
   "execution_count": 71,
   "id": "9bb1c740",
   "metadata": {},
   "outputs": [
    {
     "data": {
      "text/plain": [
       "Ttest_indResult(statistic=2.658837258745088, pvalue=0.007850591636554086)"
      ]
     },
     "execution_count": 71,
     "metadata": {},
     "output_type": "execute_result"
    }
   ],
   "source": [
    "stats.ttest_ind(\n",
    "    train.query('fips == 6111.0').logerror,\n",
    "    train.query('fips == 6059.0').logerror,\n",
    "    equal_var = True\n",
    ")"
   ]
  },
  {
   "cell_type": "markdown",
   "id": "37c7988d",
   "metadata": {},
   "source": [
    "We conclude that there is no significant difference for logerror between homes in Los Angles and Orange County. \n",
    "\n",
    "However, Orange and Los Angeles County both have significantly different log error from Ventura County."
   ]
  },
  {
   "cell_type": "markdown",
   "id": "206424d2",
   "metadata": {},
   "source": [
    "## Is there a relationship between Tax Amount and logerror?"
   ]
  },
  {
   "cell_type": "markdown",
   "id": "84afa1db",
   "metadata": {},
   "source": [
    "### Graphs"
   ]
  },
  {
   "cell_type": "code",
   "execution_count": 78,
   "id": "cc38c5de",
   "metadata": {},
   "outputs": [
    {
     "data": {
      "image/png": "[encoded data removed]",
      "text/plain": [
       "<Figure size 432x288 with 1 Axes>"
      ]
     },
     "metadata": {
      "needs_background": "light"
     },
     "output_type": "display_data"
    }
   ],
   "source": [
    "taxvalue_scatterplot = sns.scatterplot(data = train, \n",
    "                                      x = \"taxamount\", \n",
    "                                      y = \"logerror\")\n",
    "set_labels = taxvalue_scatterplot.set(xlabel='Tax Amount', ylabel = \"Log Error\", Title = \"Is there a relationship between log error and tax amount of a home?\")\n"
   ]
  },
  {
   "cell_type": "code",
   "execution_count": 79,
   "id": "3687cfbc",
   "metadata": {},
   "outputs": [
    {
     "data": {
      "text/plain": [
       "(0.001560409664754406, 0.7574454055872194)"
      ]
     },
     "execution_count": 79,
     "metadata": {},
     "output_type": "execute_result"
    }
   ],
   "source": [
    "test_results = stats.pearsonr(train.taxamount, train.logerror)\n",
    "test_results"
   ]
  },
  {
   "cell_type": "markdown",
   "id": "619fd529",
   "metadata": {},
   "source": [
    "Because our pvalue is high, we conclude there is no direct correlation between taxvalue of a home and log error."
   ]
  },
  {
   "cell_type": "code",
   "execution_count": 110,
   "id": "89dcb46d",
   "metadata": {},
   "outputs": [],
   "source": [
    "train['tax_amount_bin'] = pd.cut(train.taxamount, [0, 5000, 350000])"
   ]
  },
  {
   "cell_type": "code",
   "execution_count": 111,
   "id": "79daf4f7",
   "metadata": {},
   "outputs": [
    {
     "data": {
      "text/html": [
       "<div>\n",
       "<style scoped>\n",
       "    .dataframe tbody tr th:only-of-type {\n",
       "        vertical-align: middle;\n",
       "    }\n",
       "\n",
       "    .dataframe tbody tr th {\n",
       "        vertical-align: top;\n",
       "    }\n",
       "\n",
       "    .dataframe thead th {\n",
       "        text-align: right;\n",
       "    }\n",
       "</style>\n",
       "<table border=\"1\" class=\"dataframe\">\n",
       "  <thead>\n",
       "    <tr style=\"text-align: right;\">\n",
       "      <th></th>\n",
       "      <th>propertylandusetypeid</th>\n",
       "      <th>id</th>\n",
       "      <th>heatingorsystemtypeid</th>\n",
       "      <th>parcelid</th>\n",
       "      <th>bathroomcnt</th>\n",
       "      <th>bedroomcnt</th>\n",
       "      <th>buildingqualitytypeid</th>\n",
       "      <th>calculatedbathnbr</th>\n",
       "      <th>calculatedfinishedsquarefeet</th>\n",
       "      <th>finishedsquarefeet12</th>\n",
       "      <th>...</th>\n",
       "      <th>assessmentyear</th>\n",
       "      <th>landtaxvaluedollarcnt</th>\n",
       "      <th>taxamount</th>\n",
       "      <th>censustractandblock</th>\n",
       "      <th>heatingorsystemdesc</th>\n",
       "      <th>logerror</th>\n",
       "      <th>transactiondate</th>\n",
       "      <th>last_trans_date</th>\n",
       "      <th>propertylandusedesc</th>\n",
       "      <th>tax_amount_bin</th>\n",
       "    </tr>\n",
       "  </thead>\n",
       "  <tbody>\n",
       "    <tr>\n",
       "      <th>2462</th>\n",
       "      <td>261.0</td>\n",
       "      <td>2462.0</td>\n",
       "      <td>2.0</td>\n",
       "      <td>11020724.0</td>\n",
       "      <td>2.0</td>\n",
       "      <td>3.0</td>\n",
       "      <td>6.0</td>\n",
       "      <td>2.0</td>\n",
       "      <td>1406.0</td>\n",
       "      <td>1406.0</td>\n",
       "      <td>...</td>\n",
       "      <td>2016.0</td>\n",
       "      <td>360400.0</td>\n",
       "      <td>5727.60</td>\n",
       "      <td>6.037110e+13</td>\n",
       "      <td>Central</td>\n",
       "      <td>-0.009313</td>\n",
       "      <td>2017-01-12</td>\n",
       "      <td>2017-01-12</td>\n",
       "      <td>Single Family Residential</td>\n",
       "      <td>(5000, 350000]</td>\n",
       "    </tr>\n",
       "    <tr>\n",
       "      <th>74293</th>\n",
       "      <td>261.0</td>\n",
       "      <td>74293.0</td>\n",
       "      <td>2.0</td>\n",
       "      <td>11089877.0</td>\n",
       "      <td>2.0</td>\n",
       "      <td>4.0</td>\n",
       "      <td>6.0</td>\n",
       "      <td>2.0</td>\n",
       "      <td>1665.0</td>\n",
       "      <td>1665.0</td>\n",
       "      <td>...</td>\n",
       "      <td>2016.0</td>\n",
       "      <td>94356.0</td>\n",
       "      <td>3163.81</td>\n",
       "      <td>6.037113e+13</td>\n",
       "      <td>Central</td>\n",
       "      <td>0.109348</td>\n",
       "      <td>2017-09-07</td>\n",
       "      <td>2017-09-07</td>\n",
       "      <td>Single Family Residential</td>\n",
       "      <td>(0, 5000]</td>\n",
       "    </tr>\n",
       "    <tr>\n",
       "      <th>47347</th>\n",
       "      <td>261.0</td>\n",
       "      <td>47347.0</td>\n",
       "      <td>2.0</td>\n",
       "      <td>11075321.0</td>\n",
       "      <td>3.0</td>\n",
       "      <td>4.0</td>\n",
       "      <td>8.0</td>\n",
       "      <td>3.0</td>\n",
       "      <td>2365.0</td>\n",
       "      <td>2365.0</td>\n",
       "      <td>...</td>\n",
       "      <td>2016.0</td>\n",
       "      <td>173410.0</td>\n",
       "      <td>4548.83</td>\n",
       "      <td>6.037111e+13</td>\n",
       "      <td>Central</td>\n",
       "      <td>0.006360</td>\n",
       "      <td>2017-06-16</td>\n",
       "      <td>2017-06-16</td>\n",
       "      <td>Single Family Residential</td>\n",
       "      <td>(0, 5000]</td>\n",
       "    </tr>\n",
       "    <tr>\n",
       "      <th>32586</th>\n",
       "      <td>261.0</td>\n",
       "      <td>32586.0</td>\n",
       "      <td>2.0</td>\n",
       "      <td>11088659.0</td>\n",
       "      <td>2.0</td>\n",
       "      <td>3.0</td>\n",
       "      <td>6.0</td>\n",
       "      <td>2.0</td>\n",
       "      <td>1348.0</td>\n",
       "      <td>1348.0</td>\n",
       "      <td>...</td>\n",
       "      <td>2016.0</td>\n",
       "      <td>134526.0</td>\n",
       "      <td>3412.71</td>\n",
       "      <td>6.037113e+13</td>\n",
       "      <td>Central</td>\n",
       "      <td>0.011047</td>\n",
       "      <td>2017-05-03</td>\n",
       "      <td>2017-05-03</td>\n",
       "      <td>Single Family Residential</td>\n",
       "      <td>(0, 5000]</td>\n",
       "    </tr>\n",
       "    <tr>\n",
       "      <th>51749</th>\n",
       "      <td>261.0</td>\n",
       "      <td>51749.0</td>\n",
       "      <td>7.0</td>\n",
       "      <td>12342656.0</td>\n",
       "      <td>1.0</td>\n",
       "      <td>3.0</td>\n",
       "      <td>4.0</td>\n",
       "      <td>1.0</td>\n",
       "      <td>1062.0</td>\n",
       "      <td>1062.0</td>\n",
       "      <td>...</td>\n",
       "      <td>2016.0</td>\n",
       "      <td>167237.0</td>\n",
       "      <td>2988.15</td>\n",
       "      <td>6.037554e+13</td>\n",
       "      <td>Floor/Wall</td>\n",
       "      <td>0.021502</td>\n",
       "      <td>2017-06-29</td>\n",
       "      <td>2017-06-29</td>\n",
       "      <td>Single Family Residential</td>\n",
       "      <td>(0, 5000]</td>\n",
       "    </tr>\n",
       "  </tbody>\n",
       "</table>\n",
       "<p>5 rows × 36 columns</p>\n",
       "</div>"
      ],
      "text/plain": [
       "       propertylandusetypeid       id  heatingorsystemtypeid    parcelid  \\\n",
       "2462                   261.0   2462.0                    2.0  11020724.0   \n",
       "74293                  261.0  74293.0                    2.0  11089877.0   \n",
       "47347                  261.0  47347.0                    2.0  11075321.0   \n",
       "32586                  261.0  32586.0                    2.0  11088659.0   \n",
       "51749                  261.0  51749.0                    7.0  12342656.0   \n",
       "\n",
       "       bathroomcnt  bedroomcnt  buildingqualitytypeid  calculatedbathnbr  \\\n",
       "2462           2.0         3.0                    6.0                2.0   \n",
       "74293          2.0         4.0                    6.0                2.0   \n",
       "47347          3.0         4.0                    8.0                3.0   \n",
       "32586          2.0         3.0                    6.0                2.0   \n",
       "51749          1.0         3.0                    4.0                1.0   \n",
       "\n",
       "       calculatedfinishedsquarefeet  finishedsquarefeet12  ...  \\\n",
       "2462                         1406.0                1406.0  ...   \n",
       "74293                        1665.0                1665.0  ...   \n",
       "47347                        2365.0                2365.0  ...   \n",
       "32586                        1348.0                1348.0  ...   \n",
       "51749                        1062.0                1062.0  ...   \n",
       "\n",
       "       assessmentyear  landtaxvaluedollarcnt  taxamount  censustractandblock  \\\n",
       "2462           2016.0               360400.0    5727.60         6.037110e+13   \n",
       "74293          2016.0                94356.0    3163.81         6.037113e+13   \n",
       "47347          2016.0               173410.0    4548.83         6.037111e+13   \n",
       "32586          2016.0               134526.0    3412.71         6.037113e+13   \n",
       "51749          2016.0               167237.0    2988.15         6.037554e+13   \n",
       "\n",
       "       heatingorsystemdesc  logerror transactiondate  last_trans_date  \\\n",
       "2462               Central -0.009313      2017-01-12       2017-01-12   \n",
       "74293              Central  0.109348      2017-09-07       2017-09-07   \n",
       "47347              Central  0.006360      2017-06-16       2017-06-16   \n",
       "32586              Central  0.011047      2017-05-03       2017-05-03   \n",
       "51749           Floor/Wall  0.021502      2017-06-29       2017-06-29   \n",
       "\n",
       "             propertylandusedesc  tax_amount_bin  \n",
       "2462   Single Family Residential  (5000, 350000]  \n",
       "74293  Single Family Residential       (0, 5000]  \n",
       "47347  Single Family Residential       (0, 5000]  \n",
       "32586  Single Family Residential       (0, 5000]  \n",
       "51749  Single Family Residential       (0, 5000]  \n",
       "\n",
       "[5 rows x 36 columns]"
      ]
     },
     "execution_count": 111,
     "metadata": {},
     "output_type": "execute_result"
    }
   ],
   "source": [
    "train.head()"
   ]
  },
  {
   "cell_type": "code",
   "execution_count": 112,
   "id": "f8f65565",
   "metadata": {},
   "outputs": [
    {
     "data": {
      "text/plain": [
       "<AxesSubplot:title={'center':'Distribution of tax amount'}>"
      ]
     },
     "execution_count": 112,
     "metadata": {},
     "output_type": "execute_result"
    },
    {
     "data": {
      "image/png": "[encoded data removed]",
      "text/plain": [
       "<Figure size 432x288 with 1 Axes>"
      ]
     },
     "metadata": {
      "needs_background": "light"
     },
     "output_type": "display_data"
    }
   ],
   "source": [
    "train.tax_amount_bin.value_counts().plot.barh(title = \"Distribution of tax amount\")"
   ]
  },
  {
   "cell_type": "code",
   "execution_count": 113,
   "id": "797af69a",
   "metadata": {},
   "outputs": [
    {
     "data": {
      "text/plain": [
       "<AxesSubplot:xlabel='tax_amount_bin', ylabel='logerror'>"
      ]
     },
     "execution_count": 113,
     "metadata": {},
     "output_type": "execute_result"
    },
    {
     "data": {
      "image/png": "[encoded data removed]",
      "text/plain": [
       "<Figure size 432x288 with 1 Axes>"
      ]
     },
     "metadata": {
      "needs_background": "light"
     },
     "output_type": "display_data"
    }
   ],
   "source": [
    "sns.barplot(data=train, y='logerror', x='tax_amount_bin')\n"
   ]
  },
  {
   "cell_type": "code",
   "execution_count": 114,
   "id": "d54f52fb",
   "metadata": {},
   "outputs": [
    {
     "data": {
      "text/plain": [
       "LeveneResult(statistic=0.16630477584868666, pvalue=0.6834191991510213)"
      ]
     },
     "execution_count": 114,
     "metadata": {},
     "output_type": "execute_result"
    }
   ],
   "source": [
    "stats.levene(\n",
    "    train[train.taxamount <= 5000].logerror,\n",
    "    train[train.taxamount > 5000].logerror,\n",
    ")"
   ]
  },
  {
   "cell_type": "code",
   "execution_count": 141,
   "id": "3cc0a273",
   "metadata": {},
   "outputs": [
    {
     "data": {
      "text/plain": [
       "Ttest_indResult(statistic=-1.5306433646053854, pvalue=0.12586563299309636)"
      ]
     },
     "execution_count": 141,
     "metadata": {},
     "output_type": "execute_result"
    }
   ],
   "source": [
    "stats.ttest_ind(\n",
    "    train[train.taxamount <= 5000].logerror,\n",
    "    train[train.taxamount > 5000].logerror,\n",
    "    equal_var=True\n",
    ")\n"
   ]
  },
  {
   "cell_type": "markdown",
   "id": "b00e6bc8",
   "metadata": {},
   "source": [
    "#### Conclusion"
   ]
  },
  {
   "cell_type": "markdown",
   "id": "f4017126",
   "metadata": {},
   "source": [
    "We fail to reject the null hypothesis log error is signficantly different for properties that pay more than 5000 in taxes and properties that pay less than or equal to 5000 in taxes."
   ]
  },
  {
   "cell_type": "markdown",
   "id": "bf93edbc",
   "metadata": {},
   "source": [
    "## If we control for tax amount, does logerror differ between counties?"
   ]
  },
  {
   "cell_type": "code",
   "execution_count": 134,
   "id": "956c74b8",
   "metadata": {},
   "outputs": [
    {
     "data": {
      "image/png": "[encoded data removed]",
      "text/plain": [
       "<Figure size 432x288 with 1 Axes>"
      ]
     },
     "metadata": {
      "needs_background": "light"
     },
     "output_type": "display_data"
    }
   ],
   "source": [
    "county_log_error = sns.barplot(data = train, y = 'logerror', x = 'fips', hue = 'tax_amount_bin', palette = \"bright\")\n",
    "title = plt.title(\"Barplot: Is there a difference in the logerror of a property depending on the county, taking tax amount into account?\")\n",
    "xlabel = plt.xlabel(\"County\")\n",
    "ylabel = plt.ylabel(\"LogError\")\n",
    "xticks = county_log_error.set_xticklabels([\"Los Angeles, 6037\", \"Orange, 6059\", \"Ventura, 6111\"])"
   ]
  },
  {
   "cell_type": "code",
   "execution_count": 143,
   "id": "9357b934",
   "metadata": {},
   "outputs": [],
   "source": [
    "low_tax = train[train.taxamount <= 5000]\n",
    "high_tax = train[train.taxamount > 5000]"
   ]
  },
  {
   "cell_type": "code",
   "execution_count": 144,
   "id": "4e043486",
   "metadata": {},
   "outputs": [
    {
     "data": {
      "text/plain": [
       "Ttest_indResult(statistic=1.622236871941684, pvalue=0.10477426237468493)"
      ]
     },
     "execution_count": 144,
     "metadata": {},
     "output_type": "execute_result"
    }
   ],
   "source": [
    "stats.ttest_ind(\n",
    "    high_tax[high_tax.fips == 6111.0].logerror,\n",
    "    high_tax[high_tax.fips != 6111.0].logerror,\n",
    "    equal_var=True\n",
    ")"
   ]
  },
  {
   "cell_type": "code",
   "execution_count": 145,
   "id": "ecbc1717",
   "metadata": {},
   "outputs": [
    {
     "data": {
      "text/plain": [
       "Ttest_indResult(statistic=2.3697816272285097, pvalue=0.01780626674674716)"
      ]
     },
     "execution_count": 145,
     "metadata": {},
     "output_type": "execute_result"
    }
   ],
   "source": [
    "stats.ttest_ind(\n",
    "    low_tax[low_tax.fips == 6111.0].logerror,\n",
    "    low_tax[low_tax.fips != 6111.0].logerror,\n",
    "    equal_var=True\n",
    ")"
   ]
  },
  {
   "cell_type": "markdown",
   "id": "51e16801",
   "metadata": {},
   "source": [
    "#### Conclusion"
   ]
  },
  {
   "cell_type": "markdown",
   "id": "73295172",
   "metadata": {},
   "source": [
    "When we control for tax amount, the low tax group still has a significant difference in log error in Orange/Los Angeles vs. Ventura County. The high tax group does not."
   ]
  },
  {
   "cell_type": "markdown",
   "id": "09ce499e",
   "metadata": {},
   "source": [
    "## Does Log Error Significantly Differ by Longitude?"
   ]
  },
  {
   "cell_type": "code",
   "execution_count": 23,
   "id": "39c42c1a",
   "metadata": {},
   "outputs": [
    {
     "data": {
      "image/png": "[encoded data removed]",
      "text/plain": [
       "<Figure size 432x288 with 1 Axes>"
      ]
     },
     "metadata": {
      "needs_background": "light"
     },
     "output_type": "display_data"
    }
   ],
   "source": [
    "longitude_logerror = sns.scatterplot(x = train.longitude, y = train.logerror)\n",
    "longitude_logerror.set(xlabel='Longitude x2 (millions)', ylabel = \"LogError\", Title = \"Is There a Relationship Between Longitude and LogError?\")\n",
    "longitude_logerror.xaxis.set_major_formatter(lambda x, pos: '{:.1f} m'.format(x / 1_000_000))\n",
    "rotate = plt.xticks(rotation = 45)"
   ]
  },
  {
   "cell_type": "code",
   "execution_count": 26,
   "id": "4f004cda",
   "metadata": {},
   "outputs": [],
   "source": [
    "train['longitude_bin'] = pd.cut(train.taxamount, [-119.5*2*1_000000, -118.8*2*1000000, -117.5*2*1000000])\n"
   ]
  },
  {
   "cell_type": "code",
   "execution_count": 27,
   "id": "1b8db9c1",
   "metadata": {},
   "outputs": [
    {
     "data": {
      "text/html": [
       "<div>\n",
       "<style scoped>\n",
       "    .dataframe tbody tr th:only-of-type {\n",
       "        vertical-align: middle;\n",
       "    }\n",
       "\n",
       "    .dataframe tbody tr th {\n",
       "        vertical-align: top;\n",
       "    }\n",
       "\n",
       "    .dataframe thead th {\n",
       "        text-align: right;\n",
       "    }\n",
       "</style>\n",
       "<table border=\"1\" class=\"dataframe\">\n",
       "  <thead>\n",
       "    <tr style=\"text-align: right;\">\n",
       "      <th></th>\n",
       "      <th>propertylandusetypeid</th>\n",
       "      <th>id</th>\n",
       "      <th>heatingorsystemtypeid</th>\n",
       "      <th>parcelid</th>\n",
       "      <th>bathroomcnt</th>\n",
       "      <th>bedroomcnt</th>\n",
       "      <th>buildingqualitytypeid</th>\n",
       "      <th>calculatedbathnbr</th>\n",
       "      <th>calculatedfinishedsquarefeet</th>\n",
       "      <th>finishedsquarefeet12</th>\n",
       "      <th>...</th>\n",
       "      <th>landtaxvaluedollarcnt</th>\n",
       "      <th>taxamount</th>\n",
       "      <th>censustractandblock</th>\n",
       "      <th>heatingorsystemdesc</th>\n",
       "      <th>logerror</th>\n",
       "      <th>transactiondate</th>\n",
       "      <th>last_trans_date</th>\n",
       "      <th>propertylandusedesc</th>\n",
       "      <th>tax_amount_bin</th>\n",
       "      <th>longitude_bin</th>\n",
       "    </tr>\n",
       "  </thead>\n",
       "  <tbody>\n",
       "    <tr>\n",
       "      <th>2462</th>\n",
       "      <td>261.0</td>\n",
       "      <td>2462</td>\n",
       "      <td>2.0</td>\n",
       "      <td>11020724</td>\n",
       "      <td>2.0</td>\n",
       "      <td>3.0</td>\n",
       "      <td>6.0</td>\n",
       "      <td>2.0</td>\n",
       "      <td>1406.0</td>\n",
       "      <td>1406.0</td>\n",
       "      <td>...</td>\n",
       "      <td>360400.0</td>\n",
       "      <td>5727.60</td>\n",
       "      <td>6.037110e+13</td>\n",
       "      <td>Central</td>\n",
       "      <td>-0.009313</td>\n",
       "      <td>2017-01-12</td>\n",
       "      <td>2017-01-12</td>\n",
       "      <td>Single Family Residential</td>\n",
       "      <td>NaN</td>\n",
       "      <td>NaN</td>\n",
       "    </tr>\n",
       "    <tr>\n",
       "      <th>74293</th>\n",
       "      <td>261.0</td>\n",
       "      <td>74293</td>\n",
       "      <td>2.0</td>\n",
       "      <td>11089877</td>\n",
       "      <td>2.0</td>\n",
       "      <td>4.0</td>\n",
       "      <td>6.0</td>\n",
       "      <td>2.0</td>\n",
       "      <td>1665.0</td>\n",
       "      <td>1665.0</td>\n",
       "      <td>...</td>\n",
       "      <td>94356.0</td>\n",
       "      <td>3163.81</td>\n",
       "      <td>6.037113e+13</td>\n",
       "      <td>Central</td>\n",
       "      <td>0.109348</td>\n",
       "      <td>2017-09-07</td>\n",
       "      <td>2017-09-07</td>\n",
       "      <td>Single Family Residential</td>\n",
       "      <td>NaN</td>\n",
       "      <td>NaN</td>\n",
       "    </tr>\n",
       "    <tr>\n",
       "      <th>47347</th>\n",
       "      <td>261.0</td>\n",
       "      <td>47347</td>\n",
       "      <td>2.0</td>\n",
       "      <td>11075321</td>\n",
       "      <td>3.0</td>\n",
       "      <td>4.0</td>\n",
       "      <td>8.0</td>\n",
       "      <td>3.0</td>\n",
       "      <td>2365.0</td>\n",
       "      <td>2365.0</td>\n",
       "      <td>...</td>\n",
       "      <td>173410.0</td>\n",
       "      <td>4548.83</td>\n",
       "      <td>6.037111e+13</td>\n",
       "      <td>Central</td>\n",
       "      <td>0.006360</td>\n",
       "      <td>2017-06-16</td>\n",
       "      <td>2017-06-16</td>\n",
       "      <td>Single Family Residential</td>\n",
       "      <td>NaN</td>\n",
       "      <td>NaN</td>\n",
       "    </tr>\n",
       "    <tr>\n",
       "      <th>32586</th>\n",
       "      <td>261.0</td>\n",
       "      <td>32586</td>\n",
       "      <td>2.0</td>\n",
       "      <td>11088659</td>\n",
       "      <td>2.0</td>\n",
       "      <td>3.0</td>\n",
       "      <td>6.0</td>\n",
       "      <td>2.0</td>\n",
       "      <td>1348.0</td>\n",
       "      <td>1348.0</td>\n",
       "      <td>...</td>\n",
       "      <td>134526.0</td>\n",
       "      <td>3412.71</td>\n",
       "      <td>6.037113e+13</td>\n",
       "      <td>Central</td>\n",
       "      <td>0.011047</td>\n",
       "      <td>2017-05-03</td>\n",
       "      <td>2017-05-03</td>\n",
       "      <td>Single Family Residential</td>\n",
       "      <td>NaN</td>\n",
       "      <td>NaN</td>\n",
       "    </tr>\n",
       "    <tr>\n",
       "      <th>51749</th>\n",
       "      <td>261.0</td>\n",
       "      <td>51749</td>\n",
       "      <td>7.0</td>\n",
       "      <td>12342656</td>\n",
       "      <td>1.0</td>\n",
       "      <td>3.0</td>\n",
       "      <td>4.0</td>\n",
       "      <td>1.0</td>\n",
       "      <td>1062.0</td>\n",
       "      <td>1062.0</td>\n",
       "      <td>...</td>\n",
       "      <td>167237.0</td>\n",
       "      <td>2988.15</td>\n",
       "      <td>6.037554e+13</td>\n",
       "      <td>Floor/Wall</td>\n",
       "      <td>0.021502</td>\n",
       "      <td>2017-06-29</td>\n",
       "      <td>2017-06-29</td>\n",
       "      <td>Single Family Residential</td>\n",
       "      <td>NaN</td>\n",
       "      <td>NaN</td>\n",
       "    </tr>\n",
       "  </tbody>\n",
       "</table>\n",
       "<p>5 rows × 37 columns</p>\n",
       "</div>"
      ],
      "text/plain": [
       "       propertylandusetypeid     id  heatingorsystemtypeid  parcelid  \\\n",
       "2462                   261.0   2462                    2.0  11020724   \n",
       "74293                  261.0  74293                    2.0  11089877   \n",
       "47347                  261.0  47347                    2.0  11075321   \n",
       "32586                  261.0  32586                    2.0  11088659   \n",
       "51749                  261.0  51749                    7.0  12342656   \n",
       "\n",
       "       bathroomcnt  bedroomcnt  buildingqualitytypeid  calculatedbathnbr  \\\n",
       "2462           2.0         3.0                    6.0                2.0   \n",
       "74293          2.0         4.0                    6.0                2.0   \n",
       "47347          3.0         4.0                    8.0                3.0   \n",
       "32586          2.0         3.0                    6.0                2.0   \n",
       "51749          1.0         3.0                    4.0                1.0   \n",
       "\n",
       "       calculatedfinishedsquarefeet  finishedsquarefeet12  ...  \\\n",
       "2462                         1406.0                1406.0  ...   \n",
       "74293                        1665.0                1665.0  ...   \n",
       "47347                        2365.0                2365.0  ...   \n",
       "32586                        1348.0                1348.0  ...   \n",
       "51749                        1062.0                1062.0  ...   \n",
       "\n",
       "       landtaxvaluedollarcnt  taxamount  censustractandblock  \\\n",
       "2462                360400.0    5727.60         6.037110e+13   \n",
       "74293                94356.0    3163.81         6.037113e+13   \n",
       "47347               173410.0    4548.83         6.037111e+13   \n",
       "32586               134526.0    3412.71         6.037113e+13   \n",
       "51749               167237.0    2988.15         6.037554e+13   \n",
       "\n",
       "       heatingorsystemdesc  logerror transactiondate last_trans_date  \\\n",
       "2462               Central -0.009313      2017-01-12      2017-01-12   \n",
       "74293              Central  0.109348      2017-09-07      2017-09-07   \n",
       "47347              Central  0.006360      2017-06-16      2017-06-16   \n",
       "32586              Central  0.011047      2017-05-03      2017-05-03   \n",
       "51749           Floor/Wall  0.021502      2017-06-29      2017-06-29   \n",
       "\n",
       "             propertylandusedesc  tax_amount_bin  longitude_bin  \n",
       "2462   Single Family Residential             NaN            NaN  \n",
       "74293  Single Family Residential             NaN            NaN  \n",
       "47347  Single Family Residential             NaN            NaN  \n",
       "32586  Single Family Residential             NaN            NaN  \n",
       "51749  Single Family Residential             NaN            NaN  \n",
       "\n",
       "[5 rows x 37 columns]"
      ]
     },
     "execution_count": 27,
     "metadata": {},
     "output_type": "execute_result"
    }
   ],
   "source": [
    "train.head()"
   ]
  },
  {
   "cell_type": "code",
   "execution_count": null,
   "id": "55adb1a2",
   "metadata": {},
   "outputs": [],
   "source": []
  }
 ],
 "metadata": {
  "kernelspec": {
   "display_name": "Python 3",
   "language": "python",
   "name": "python3"
  },
  "language_info": {
   "codemirror_mode": {
    "name": "ipython",
    "version": 3
   },
   "file_extension": ".py",
   "mimetype": "text/x-python",
   "name": "python",
   "nbconvert_exporter": "python",
   "pygments_lexer": "ipython3",
   "version": "3.8.8"
  }
 },
 "nbformat": 4,
 "nbformat_minor": 5
}
