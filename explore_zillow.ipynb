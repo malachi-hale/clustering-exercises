{
 "cells": [
  {
   "cell_type": "markdown",
   "id": "5e9551c0",
   "metadata": {},
   "source": [
    "# Explore"
   ]
  },
  {
   "cell_type": "markdown",
   "id": "731731cb",
   "metadata": {},
   "source": [
    "## Import Libraries"
   ]
  },
  {
   "cell_type": "code",
   "execution_count": 1,
   "id": "d3a435a4",
   "metadata": {},
   "outputs": [],
   "source": [
    "#Disable warnings\n",
    "import warnings\n",
    "warnings.filterwarnings(\"ignore\")\n",
    "\n",
    "#Libraries for processing data\n",
    "import pandas as pd\n",
    "import numpy as np\n",
    "\n",
    "#Import libraries for graphing\n",
    "import matplotlib.pyplot as plt\n",
    "import matplotlib.ticker as ticker\n",
    "import seaborn as sns\n",
    "\n",
    "#Libraries for obtaining data from SQL databse\n",
    "import env\n",
    "import os\n",
    "\n",
    "#Library for statistical testing\n",
    "from scipy import stats\n",
    "\n",
    "##Acquire function\n",
    "from wrangle_zillow import wrangle_zillow\n",
    "from wrangle_zillow import split_data\n",
    "\n",
    "#Train, test, split\n",
    "from sklearn.model_selection import train_test_split\n",
    "\n",
    "#Library for dealing with NA values\n",
    "from sklearn.impute import SimpleImputer\n",
    "\n",
    "#Library needed for scaling the data\n",
    "import sklearn.preprocessing"
   ]
  },
  {
   "cell_type": "markdown",
   "id": "5e0abe6d",
   "metadata": {},
   "source": [
    "## Import Zillow Dataset"
   ]
  },
  {
   "cell_type": "code",
   "execution_count": 2,
   "id": "b8d728ab",
   "metadata": {},
   "outputs": [],
   "source": [
    "df = wrangle_zillow()"
   ]
  },
  {
   "cell_type": "code",
   "execution_count": 3,
   "id": "ab9a41a7",
   "metadata": {},
   "outputs": [
    {
     "data": {
      "text/html": [
       "<div>\n",
       "<style scoped>\n",
       "    .dataframe tbody tr th:only-of-type {\n",
       "        vertical-align: middle;\n",
       "    }\n",
       "\n",
       "    .dataframe tbody tr th {\n",
       "        vertical-align: top;\n",
       "    }\n",
       "\n",
       "    .dataframe thead th {\n",
       "        text-align: right;\n",
       "    }\n",
       "</style>\n",
       "<table border=\"1\" class=\"dataframe\">\n",
       "  <thead>\n",
       "    <tr style=\"text-align: right;\">\n",
       "      <th></th>\n",
       "      <th>propertylandusetypeid</th>\n",
       "      <th>id</th>\n",
       "      <th>heatingorsystemtypeid</th>\n",
       "      <th>parcelid</th>\n",
       "      <th>bathroomcnt</th>\n",
       "      <th>bedroomcnt</th>\n",
       "      <th>buildingqualitytypeid</th>\n",
       "      <th>calculatedbathnbr</th>\n",
       "      <th>calculatedfinishedsquarefeet</th>\n",
       "      <th>finishedsquarefeet12</th>\n",
       "      <th>...</th>\n",
       "      <th>taxvaluedollarcnt</th>\n",
       "      <th>assessmentyear</th>\n",
       "      <th>landtaxvaluedollarcnt</th>\n",
       "      <th>taxamount</th>\n",
       "      <th>censustractandblock</th>\n",
       "      <th>heatingorsystemdesc</th>\n",
       "      <th>logerror</th>\n",
       "      <th>transactiondate</th>\n",
       "      <th>last_trans_date</th>\n",
       "      <th>propertylandusedesc</th>\n",
       "    </tr>\n",
       "  </thead>\n",
       "  <tbody>\n",
       "    <tr>\n",
       "      <th>10</th>\n",
       "      <td>269.0</td>\n",
       "      <td>10</td>\n",
       "      <td>2.0</td>\n",
       "      <td>11070347</td>\n",
       "      <td>4.0</td>\n",
       "      <td>4.0</td>\n",
       "      <td>1.0</td>\n",
       "      <td>4.0</td>\n",
       "      <td>3095.0</td>\n",
       "      <td>3095.0</td>\n",
       "      <td>...</td>\n",
       "      <td>192544.0</td>\n",
       "      <td>2016.0</td>\n",
       "      <td>53784.0</td>\n",
       "      <td>2460.72</td>\n",
       "      <td>NaN</td>\n",
       "      <td>Central</td>\n",
       "      <td>0.005963</td>\n",
       "      <td>2017-01-02</td>\n",
       "      <td>2017-01-02</td>\n",
       "      <td>Planned Unit Development</td>\n",
       "    </tr>\n",
       "    <tr>\n",
       "      <th>20</th>\n",
       "      <td>261.0</td>\n",
       "      <td>20</td>\n",
       "      <td>2.0</td>\n",
       "      <td>11324547</td>\n",
       "      <td>2.0</td>\n",
       "      <td>4.0</td>\n",
       "      <td>8.0</td>\n",
       "      <td>2.0</td>\n",
       "      <td>3633.0</td>\n",
       "      <td>3633.0</td>\n",
       "      <td>...</td>\n",
       "      <td>296425.0</td>\n",
       "      <td>2016.0</td>\n",
       "      <td>74104.0</td>\n",
       "      <td>6941.39</td>\n",
       "      <td>NaN</td>\n",
       "      <td>Central</td>\n",
       "      <td>0.042463</td>\n",
       "      <td>2017-01-02</td>\n",
       "      <td>2017-01-02</td>\n",
       "      <td>Single Family Residential</td>\n",
       "    </tr>\n",
       "    <tr>\n",
       "      <th>30</th>\n",
       "      <td>266.0</td>\n",
       "      <td>30</td>\n",
       "      <td>2.0</td>\n",
       "      <td>11524947</td>\n",
       "      <td>2.0</td>\n",
       "      <td>2.0</td>\n",
       "      <td>7.0</td>\n",
       "      <td>2.0</td>\n",
       "      <td>1090.0</td>\n",
       "      <td>1090.0</td>\n",
       "      <td>...</td>\n",
       "      <td>357568.0</td>\n",
       "      <td>2016.0</td>\n",
       "      <td>124671.0</td>\n",
       "      <td>6165.36</td>\n",
       "      <td>NaN</td>\n",
       "      <td>Central</td>\n",
       "      <td>0.021853</td>\n",
       "      <td>2017-01-02</td>\n",
       "      <td>2017-01-02</td>\n",
       "      <td>Condominium</td>\n",
       "    </tr>\n",
       "    <tr>\n",
       "      <th>31</th>\n",
       "      <td>261.0</td>\n",
       "      <td>31</td>\n",
       "      <td>2.0</td>\n",
       "      <td>11544747</td>\n",
       "      <td>4.0</td>\n",
       "      <td>3.0</td>\n",
       "      <td>11.0</td>\n",
       "      <td>4.0</td>\n",
       "      <td>1620.0</td>\n",
       "      <td>1620.0</td>\n",
       "      <td>...</td>\n",
       "      <td>847770.0</td>\n",
       "      <td>2016.0</td>\n",
       "      <td>508238.0</td>\n",
       "      <td>10244.94</td>\n",
       "      <td>NaN</td>\n",
       "      <td>Central</td>\n",
       "      <td>-0.019546</td>\n",
       "      <td>2017-01-02</td>\n",
       "      <td>2017-01-02</td>\n",
       "      <td>Single Family Residential</td>\n",
       "    </tr>\n",
       "    <tr>\n",
       "      <th>33</th>\n",
       "      <td>261.0</td>\n",
       "      <td>33</td>\n",
       "      <td>2.0</td>\n",
       "      <td>11585547</td>\n",
       "      <td>2.0</td>\n",
       "      <td>3.0</td>\n",
       "      <td>8.0</td>\n",
       "      <td>2.0</td>\n",
       "      <td>2077.0</td>\n",
       "      <td>2077.0</td>\n",
       "      <td>...</td>\n",
       "      <td>646760.0</td>\n",
       "      <td>2016.0</td>\n",
       "      <td>436568.0</td>\n",
       "      <td>7924.68</td>\n",
       "      <td>NaN</td>\n",
       "      <td>Central</td>\n",
       "      <td>-0.040807</td>\n",
       "      <td>2017-01-02</td>\n",
       "      <td>2017-01-02</td>\n",
       "      <td>Single Family Residential</td>\n",
       "    </tr>\n",
       "  </tbody>\n",
       "</table>\n",
       "<p>5 rows × 35 columns</p>\n",
       "</div>"
      ],
      "text/plain": [
       "    propertylandusetypeid  id  heatingorsystemtypeid  parcelid  bathroomcnt  \\\n",
       "10                  269.0  10                    2.0  11070347          4.0   \n",
       "20                  261.0  20                    2.0  11324547          2.0   \n",
       "30                  266.0  30                    2.0  11524947          2.0   \n",
       "31                  261.0  31                    2.0  11544747          4.0   \n",
       "33                  261.0  33                    2.0  11585547          2.0   \n",
       "\n",
       "    bedroomcnt  buildingqualitytypeid  calculatedbathnbr  \\\n",
       "10         4.0                    1.0                4.0   \n",
       "20         4.0                    8.0                2.0   \n",
       "30         2.0                    7.0                2.0   \n",
       "31         3.0                   11.0                4.0   \n",
       "33         3.0                    8.0                2.0   \n",
       "\n",
       "    calculatedfinishedsquarefeet  finishedsquarefeet12  ...  \\\n",
       "10                        3095.0                3095.0  ...   \n",
       "20                        3633.0                3633.0  ...   \n",
       "30                        1090.0                1090.0  ...   \n",
       "31                        1620.0                1620.0  ...   \n",
       "33                        2077.0                2077.0  ...   \n",
       "\n",
       "    taxvaluedollarcnt  assessmentyear  landtaxvaluedollarcnt  taxamount  \\\n",
       "10           192544.0          2016.0                53784.0    2460.72   \n",
       "20           296425.0          2016.0                74104.0    6941.39   \n",
       "30           357568.0          2016.0               124671.0    6165.36   \n",
       "31           847770.0          2016.0               508238.0   10244.94   \n",
       "33           646760.0          2016.0               436568.0    7924.68   \n",
       "\n",
       "    censustractandblock heatingorsystemdesc  logerror  transactiondate  \\\n",
       "10                  NaN             Central  0.005963       2017-01-02   \n",
       "20                  NaN             Central  0.042463       2017-01-02   \n",
       "30                  NaN             Central  0.021853       2017-01-02   \n",
       "31                  NaN             Central -0.019546       2017-01-02   \n",
       "33                  NaN             Central -0.040807       2017-01-02   \n",
       "\n",
       "    last_trans_date        propertylandusedesc  \n",
       "10       2017-01-02   Planned Unit Development  \n",
       "20       2017-01-02  Single Family Residential  \n",
       "30       2017-01-02                Condominium  \n",
       "31       2017-01-02  Single Family Residential  \n",
       "33       2017-01-02  Single Family Residential  \n",
       "\n",
       "[5 rows x 35 columns]"
      ]
     },
     "execution_count": 3,
     "metadata": {},
     "output_type": "execute_result"
    }
   ],
   "source": [
    "df.head()"
   ]
  },
  {
   "cell_type": "code",
   "execution_count": 4,
   "id": "44445190",
   "metadata": {},
   "outputs": [],
   "source": [
    "#Now we will replace the null values with the mean value of each column\n",
    "def impute_null_values(df):\n",
    "    '''\n",
    "    We will use SimpleImputer to impute the mean value into the null values into each column.\n",
    "    '''\n",
    "    #We will use the mean imputer function.\n",
    "    imputer = SimpleImputer(strategy='most_frequent')\n",
    "\n",
    "    #We will create a for loop that will impute all the null values in each one of our columns.\n",
    "    for col in df.columns:\n",
    "        df[[col]] = imputer.fit_transform(df[[col]])\n",
    "    \n",
    "    return df"
   ]
  },
  {
   "cell_type": "code",
   "execution_count": 5,
   "id": "ec1294c1",
   "metadata": {},
   "outputs": [],
   "source": [
    "df = impute_null_values(df)"
   ]
  },
  {
   "cell_type": "code",
   "execution_count": 6,
   "id": "c60df20d",
   "metadata": {},
   "outputs": [],
   "source": [
    "train, validate, test = split_data(df)"
   ]
  },
  {
   "cell_type": "code",
   "execution_count": 7,
   "id": "06bcd886",
   "metadata": {},
   "outputs": [
    {
     "data": {
      "text/html": [
       "<div>\n",
       "<style scoped>\n",
       "    .dataframe tbody tr th:only-of-type {\n",
       "        vertical-align: middle;\n",
       "    }\n",
       "\n",
       "    .dataframe tbody tr th {\n",
       "        vertical-align: top;\n",
       "    }\n",
       "\n",
       "    .dataframe thead th {\n",
       "        text-align: right;\n",
       "    }\n",
       "</style>\n",
       "<table border=\"1\" class=\"dataframe\">\n",
       "  <thead>\n",
       "    <tr style=\"text-align: right;\">\n",
       "      <th></th>\n",
       "      <th>propertylandusetypeid</th>\n",
       "      <th>id</th>\n",
       "      <th>heatingorsystemtypeid</th>\n",
       "      <th>parcelid</th>\n",
       "      <th>bathroomcnt</th>\n",
       "      <th>bedroomcnt</th>\n",
       "      <th>buildingqualitytypeid</th>\n",
       "      <th>calculatedbathnbr</th>\n",
       "      <th>calculatedfinishedsquarefeet</th>\n",
       "      <th>finishedsquarefeet12</th>\n",
       "      <th>...</th>\n",
       "      <th>taxvaluedollarcnt</th>\n",
       "      <th>assessmentyear</th>\n",
       "      <th>landtaxvaluedollarcnt</th>\n",
       "      <th>taxamount</th>\n",
       "      <th>censustractandblock</th>\n",
       "      <th>heatingorsystemdesc</th>\n",
       "      <th>logerror</th>\n",
       "      <th>transactiondate</th>\n",
       "      <th>last_trans_date</th>\n",
       "      <th>propertylandusedesc</th>\n",
       "    </tr>\n",
       "  </thead>\n",
       "  <tbody>\n",
       "    <tr>\n",
       "      <th>2462</th>\n",
       "      <td>261.0</td>\n",
       "      <td>2462</td>\n",
       "      <td>2.0</td>\n",
       "      <td>11020724</td>\n",
       "      <td>2.0</td>\n",
       "      <td>3.0</td>\n",
       "      <td>6.0</td>\n",
       "      <td>2.0</td>\n",
       "      <td>1406.0</td>\n",
       "      <td>1406.0</td>\n",
       "      <td>...</td>\n",
       "      <td>460200.0</td>\n",
       "      <td>2016.0</td>\n",
       "      <td>360400.0</td>\n",
       "      <td>5727.60</td>\n",
       "      <td>6.037110e+13</td>\n",
       "      <td>Central</td>\n",
       "      <td>-0.009313</td>\n",
       "      <td>2017-01-12</td>\n",
       "      <td>2017-01-12</td>\n",
       "      <td>Single Family Residential</td>\n",
       "    </tr>\n",
       "    <tr>\n",
       "      <th>74293</th>\n",
       "      <td>261.0</td>\n",
       "      <td>74293</td>\n",
       "      <td>2.0</td>\n",
       "      <td>11089877</td>\n",
       "      <td>2.0</td>\n",
       "      <td>4.0</td>\n",
       "      <td>6.0</td>\n",
       "      <td>2.0</td>\n",
       "      <td>1665.0</td>\n",
       "      <td>1665.0</td>\n",
       "      <td>...</td>\n",
       "      <td>252423.0</td>\n",
       "      <td>2016.0</td>\n",
       "      <td>94356.0</td>\n",
       "      <td>3163.81</td>\n",
       "      <td>6.037113e+13</td>\n",
       "      <td>Central</td>\n",
       "      <td>0.109348</td>\n",
       "      <td>2017-09-07</td>\n",
       "      <td>2017-09-07</td>\n",
       "      <td>Single Family Residential</td>\n",
       "    </tr>\n",
       "    <tr>\n",
       "      <th>47347</th>\n",
       "      <td>261.0</td>\n",
       "      <td>47347</td>\n",
       "      <td>2.0</td>\n",
       "      <td>11075321</td>\n",
       "      <td>3.0</td>\n",
       "      <td>4.0</td>\n",
       "      <td>8.0</td>\n",
       "      <td>3.0</td>\n",
       "      <td>2365.0</td>\n",
       "      <td>2365.0</td>\n",
       "      <td>...</td>\n",
       "      <td>355893.0</td>\n",
       "      <td>2016.0</td>\n",
       "      <td>173410.0</td>\n",
       "      <td>4548.83</td>\n",
       "      <td>6.037111e+13</td>\n",
       "      <td>Central</td>\n",
       "      <td>0.006360</td>\n",
       "      <td>2017-06-16</td>\n",
       "      <td>2017-06-16</td>\n",
       "      <td>Single Family Residential</td>\n",
       "    </tr>\n",
       "    <tr>\n",
       "      <th>32586</th>\n",
       "      <td>261.0</td>\n",
       "      <td>32586</td>\n",
       "      <td>2.0</td>\n",
       "      <td>11088659</td>\n",
       "      <td>2.0</td>\n",
       "      <td>3.0</td>\n",
       "      <td>6.0</td>\n",
       "      <td>2.0</td>\n",
       "      <td>1348.0</td>\n",
       "      <td>1348.0</td>\n",
       "      <td>...</td>\n",
       "      <td>267039.0</td>\n",
       "      <td>2016.0</td>\n",
       "      <td>134526.0</td>\n",
       "      <td>3412.71</td>\n",
       "      <td>6.037113e+13</td>\n",
       "      <td>Central</td>\n",
       "      <td>0.011047</td>\n",
       "      <td>2017-05-03</td>\n",
       "      <td>2017-05-03</td>\n",
       "      <td>Single Family Residential</td>\n",
       "    </tr>\n",
       "    <tr>\n",
       "      <th>51749</th>\n",
       "      <td>261.0</td>\n",
       "      <td>51749</td>\n",
       "      <td>7.0</td>\n",
       "      <td>12342656</td>\n",
       "      <td>1.0</td>\n",
       "      <td>3.0</td>\n",
       "      <td>4.0</td>\n",
       "      <td>1.0</td>\n",
       "      <td>1062.0</td>\n",
       "      <td>1062.0</td>\n",
       "      <td>...</td>\n",
       "      <td>235767.0</td>\n",
       "      <td>2016.0</td>\n",
       "      <td>167237.0</td>\n",
       "      <td>2988.15</td>\n",
       "      <td>6.037554e+13</td>\n",
       "      <td>Floor/Wall</td>\n",
       "      <td>0.021502</td>\n",
       "      <td>2017-06-29</td>\n",
       "      <td>2017-06-29</td>\n",
       "      <td>Single Family Residential</td>\n",
       "    </tr>\n",
       "  </tbody>\n",
       "</table>\n",
       "<p>5 rows × 35 columns</p>\n",
       "</div>"
      ],
      "text/plain": [
       "       propertylandusetypeid     id  heatingorsystemtypeid  parcelid  \\\n",
       "2462                   261.0   2462                    2.0  11020724   \n",
       "74293                  261.0  74293                    2.0  11089877   \n",
       "47347                  261.0  47347                    2.0  11075321   \n",
       "32586                  261.0  32586                    2.0  11088659   \n",
       "51749                  261.0  51749                    7.0  12342656   \n",
       "\n",
       "       bathroomcnt  bedroomcnt  buildingqualitytypeid  calculatedbathnbr  \\\n",
       "2462           2.0         3.0                    6.0                2.0   \n",
       "74293          2.0         4.0                    6.0                2.0   \n",
       "47347          3.0         4.0                    8.0                3.0   \n",
       "32586          2.0         3.0                    6.0                2.0   \n",
       "51749          1.0         3.0                    4.0                1.0   \n",
       "\n",
       "       calculatedfinishedsquarefeet  finishedsquarefeet12  ...  \\\n",
       "2462                         1406.0                1406.0  ...   \n",
       "74293                        1665.0                1665.0  ...   \n",
       "47347                        2365.0                2365.0  ...   \n",
       "32586                        1348.0                1348.0  ...   \n",
       "51749                        1062.0                1062.0  ...   \n",
       "\n",
       "       taxvaluedollarcnt  assessmentyear  landtaxvaluedollarcnt  taxamount  \\\n",
       "2462            460200.0          2016.0               360400.0    5727.60   \n",
       "74293           252423.0          2016.0                94356.0    3163.81   \n",
       "47347           355893.0          2016.0               173410.0    4548.83   \n",
       "32586           267039.0          2016.0               134526.0    3412.71   \n",
       "51749           235767.0          2016.0               167237.0    2988.15   \n",
       "\n",
       "       censustractandblock heatingorsystemdesc  logerror  transactiondate  \\\n",
       "2462          6.037110e+13             Central -0.009313       2017-01-12   \n",
       "74293         6.037113e+13             Central  0.109348       2017-09-07   \n",
       "47347         6.037111e+13             Central  0.006360       2017-06-16   \n",
       "32586         6.037113e+13             Central  0.011047       2017-05-03   \n",
       "51749         6.037554e+13          Floor/Wall  0.021502       2017-06-29   \n",
       "\n",
       "       last_trans_date        propertylandusedesc  \n",
       "2462        2017-01-12  Single Family Residential  \n",
       "74293       2017-09-07  Single Family Residential  \n",
       "47347       2017-06-16  Single Family Residential  \n",
       "32586       2017-05-03  Single Family Residential  \n",
       "51749       2017-06-29  Single Family Residential  \n",
       "\n",
       "[5 rows x 35 columns]"
      ]
     },
     "execution_count": 7,
     "metadata": {},
     "output_type": "execute_result"
    }
   ],
   "source": [
    "train.head()"
   ]
  },
  {
   "cell_type": "code",
   "execution_count": 61,
   "id": "da9578cd",
   "metadata": {},
   "outputs": [
    {
     "name": "stdout",
     "output_type": "stream",
     "text": [
      "<class 'pandas.core.frame.DataFrame'>\n",
      "Int64Index: 39175 entries, 2462 to 18266\n",
      "Data columns (total 35 columns):\n",
      " #   Column                        Non-Null Count  Dtype  \n",
      "---  ------                        --------------  -----  \n",
      " 0   propertylandusetypeid         39175 non-null  float64\n",
      " 1   id                            39175 non-null  float64\n",
      " 2   heatingorsystemtypeid         39175 non-null  float64\n",
      " 3   parcelid                      39175 non-null  float64\n",
      " 4   bathroomcnt                   39175 non-null  float64\n",
      " 5   bedroomcnt                    39175 non-null  float64\n",
      " 6   buildingqualitytypeid         39175 non-null  float64\n",
      " 7   calculatedbathnbr             39175 non-null  float64\n",
      " 8   calculatedfinishedsquarefeet  39175 non-null  float64\n",
      " 9   finishedsquarefeet12          39175 non-null  float64\n",
      " 10  fips                          39175 non-null  float64\n",
      " 11  fullbathcnt                   39175 non-null  float64\n",
      " 12  latitude                      39175 non-null  float64\n",
      " 13  longitude                     39175 non-null  float64\n",
      " 14  lotsizesquarefeet             39175 non-null  float64\n",
      " 15  propertycountylandusecode     39175 non-null  object \n",
      " 16  propertyzoningdesc            25967 non-null  object \n",
      " 17  rawcensustractandblock        39175 non-null  float64\n",
      " 18  regionidcity                  39175 non-null  float64\n",
      " 19  regionidcounty                39175 non-null  float64\n",
      " 20  regionidzip                   39175 non-null  float64\n",
      " 21  roomcnt                       39175 non-null  float64\n",
      " 22  unitcnt                       39175 non-null  float64\n",
      " 23  yearbuilt                     39175 non-null  float64\n",
      " 24  structuretaxvaluedollarcnt    39175 non-null  float64\n",
      " 25  taxvaluedollarcnt             39175 non-null  float64\n",
      " 26  assessmentyear                39175 non-null  float64\n",
      " 27  landtaxvaluedollarcnt         39175 non-null  float64\n",
      " 28  taxamount                     39175 non-null  float64\n",
      " 29  censustractandblock           39175 non-null  float64\n",
      " 30  heatingorsystemdesc           26294 non-null  object \n",
      " 31  logerror                      39175 non-null  float64\n",
      " 32  transactiondate               39175 non-null  object \n",
      " 33  last_trans_date               39175 non-null  object \n",
      " 34  propertylandusedesc           39175 non-null  object \n",
      "dtypes: float64(29), object(6)\n",
      "memory usage: 10.8+ MB\n"
     ]
    }
   ],
   "source": [
    "train.info()"
   ]
  },
  {
   "cell_type": "markdown",
   "id": "97c5863f",
   "metadata": {},
   "source": [
    "## Does the logerror of a property differ by county?"
   ]
  },
  {
   "cell_type": "markdown",
   "id": "382b4073",
   "metadata": {},
   "source": [
    "### Graphs"
   ]
  },
  {
   "cell_type": "code",
   "execution_count": 7,
   "id": "80b5de40",
   "metadata": {},
   "outputs": [],
   "source": [
    "sns.set_palette(\"bright\")"
   ]
  },
  {
   "cell_type": "markdown",
   "id": "03c457b2",
   "metadata": {},
   "source": [
    "#### Value Counts"
   ]
  },
  {
   "cell_type": "code",
   "execution_count": 10,
   "id": "3e928d13",
   "metadata": {},
   "outputs": [
    {
     "data": {
      "text/plain": [
       "6037.0    26042\n",
       "6059.0     9903\n",
       "6111.0     3230\n",
       "Name: fips, dtype: int64"
      ]
     },
     "execution_count": 10,
     "metadata": {},
     "output_type": "execute_result"
    }
   ],
   "source": [
    "train.fips.value_counts()"
   ]
  },
  {
   "cell_type": "code",
   "execution_count": 16,
   "id": "8ee4f1cb",
   "metadata": {},
   "outputs": [
    {
     "data": {
      "image/png": "[encoded data removed]",
      "text/plain": [
       "<Figure size 432x288 with 1 Axes>"
      ]
     },
     "metadata": {
      "needs_background": "light"
     },
     "output_type": "display_data"
    }
   ],
   "source": [
    "value_counts_county = train.fips.value_counts().plot.barh(title = \"Value Counts by County\")"
   ]
  },
  {
   "cell_type": "markdown",
   "id": "dcc4d147",
   "metadata": {},
   "source": [
    "#### LogError by County"
   ]
  },
  {
   "cell_type": "code",
   "execution_count": 64,
   "id": "1542f215",
   "metadata": {},
   "outputs": [
    {
     "data": {
      "image/png": "[encoded data removed]",
      "text/plain": [
       "<Figure size 432x288 with 1 Axes>"
      ]
     },
     "metadata": {
      "needs_background": "light"
     },
     "output_type": "display_data"
    }
   ],
   "source": [
    "county_log_error = sns.barplot(data = train, y = 'logerror', x = 'fips')\n",
    "title = plt.title(\"Barplot: Is there a difference in the logerror of a property depending on the county?\")\n",
    "xlabel = plt.xlabel(\"County\")\n",
    "ylabel = plt.ylabel(\"LogError\")\n",
    "xticks = county_log_error.set_xticklabels([\"Los Angeles, 6037\", \"Orange, 6059\", \"Ventura, 6111\"])"
   ]
  },
  {
   "cell_type": "code",
   "execution_count": 65,
   "id": "56e2e1f1",
   "metadata": {},
   "outputs": [
    {
     "data": {
      "image/png": "[encoded data removed]",
      "text/plain": [
       "<Figure size 432x288 with 1 Axes>"
      ]
     },
     "metadata": {
      "needs_background": "light"
     },
     "output_type": "display_data"
    }
   ],
   "source": [
    "county_log_error = sns.violinplot(data = train, y = 'logerror', x = 'fips')\n",
    "title = plt.title(\"Boxplot: Is there a difference in the logerror of a property depending on the county?\")\n",
    "xlabel = plt.xlabel(\"County\")\n",
    "ylabel = plt.ylabel(\"LogError\")\n",
    "xticks = county_log_error.set_xticklabels([\"Los Angeles\", \"Orange\", \"Ventura\"])"
   ]
  },
  {
   "cell_type": "markdown",
   "id": "1bfd1d6f",
   "metadata": {},
   "source": [
    "### Statistical Testing"
   ]
  },
  {
   "cell_type": "markdown",
   "id": "e626a3d8",
   "metadata": {},
   "source": [
    "#### Leven's Test"
   ]
  },
  {
   "cell_type": "markdown",
   "id": "ccb4fd88",
   "metadata": {},
   "source": [
    "$H_0$: There is no difference in log error variance between Los Angeles and Orange County. \n",
    "\n",
    "$H_a$: There is a significant different in log error variance between Los Angeles and Orange County."
   ]
  },
  {
   "cell_type": "code",
   "execution_count": 66,
   "id": "bac12d11",
   "metadata": {},
   "outputs": [
    {
     "data": {
      "text/plain": [
       "LeveneResult(statistic=0.2922519988069781, pvalue=0.5887843475165777)"
      ]
     },
     "execution_count": 66,
     "metadata": {},
     "output_type": "execute_result"
    }
   ],
   "source": [
    "stats.levene(\n",
    "    train.query('fips == 6037.0').logerror,\n",
    "    train.query('fips == 6059.0').logerror,\n",
    ")"
   ]
  },
  {
   "cell_type": "markdown",
   "id": "ff58e714",
   "metadata": {},
   "source": [
    "Because of a high p-value, we fail to reject the null hypothesis."
   ]
  },
  {
   "cell_type": "markdown",
   "id": "6f77733b",
   "metadata": {},
   "source": [
    "$H_0$: There is no difference in log error variance between Los Angeles and Ventura County. \n",
    "\n",
    "$H_a$: There is a significant different in log error variance between Los Angeles and Ventura County."
   ]
  },
  {
   "cell_type": "code",
   "execution_count": 67,
   "id": "3425ce0d",
   "metadata": {},
   "outputs": [
    {
     "data": {
      "text/plain": [
       "LeveneResult(statistic=0.811996093595627, pvalue=0.3675381765653868)"
      ]
     },
     "execution_count": 67,
     "metadata": {},
     "output_type": "execute_result"
    }
   ],
   "source": [
    "stats.levene(\n",
    "    train.query('fips == 6037.0').logerror,\n",
    "    train.query('fips == 6111.0').logerror,\n",
    ")"
   ]
  },
  {
   "cell_type": "markdown",
   "id": "a7be3530",
   "metadata": {},
   "source": [
    "Because of a high p-value, we fail to reject the null hypothesis."
   ]
  },
  {
   "cell_type": "markdown",
   "id": "3e8b67d5",
   "metadata": {},
   "source": [
    "$H_0$: There is no difference in log error variance between Orange and Ventura County. \n",
    "\n",
    "$H_a$: There is a significant different in log error variance between Orange and Ventura County."
   ]
  },
  {
   "cell_type": "code",
   "execution_count": 68,
   "id": "6805aa71",
   "metadata": {},
   "outputs": [
    {
     "data": {
      "text/plain": [
       "LeveneResult(statistic=0.26029144489707706, pvalue=0.6099285743995952)"
      ]
     },
     "execution_count": 68,
     "metadata": {},
     "output_type": "execute_result"
    }
   ],
   "source": [
    "stats.levene(\n",
    "    train.query('fips == 6059.0').logerror,\n",
    "    train.query('fips == 6111.0').logerror,\n",
    ")"
   ]
  },
  {
   "cell_type": "markdown",
   "id": "5886d54d",
   "metadata": {},
   "source": [
    "Because of a high p-value, we fail to reject the null hypothesis that variance in log error is significantly different between Los Angeles, Orange County, and Ventura."
   ]
  },
  {
   "cell_type": "markdown",
   "id": "e7785e38",
   "metadata": {},
   "source": [
    "#### T test"
   ]
  },
  {
   "cell_type": "markdown",
   "id": "a734a068",
   "metadata": {},
   "source": [
    "$H_0$: There is no difference in log error for Orange and Ventura County. \n",
    "\n",
    "$H_a$: There is a significant different in log error for Orange and Ventura County."
   ]
  },
  {
   "cell_type": "code",
   "execution_count": 69,
   "id": "de9d7991",
   "metadata": {},
   "outputs": [
    {
     "data": {
      "text/plain": [
       "Ttest_indResult(statistic=0.3744968199332362, pvalue=0.7080369314010183)"
      ]
     },
     "execution_count": 69,
     "metadata": {},
     "output_type": "execute_result"
    }
   ],
   "source": [
    "stats.ttest_ind(\n",
    "    train.query('fips == 6037.0').logerror,\n",
    "    train.query('fips == 6059.0').logerror,\n",
    "    equal_var = True\n",
    ")"
   ]
  },
  {
   "cell_type": "markdown",
   "id": "80d7321e",
   "metadata": {},
   "source": [
    "$H_0$: There is no difference in log error for Los Angeles and Ventura County. \n",
    "\n",
    "$H_a$: There is a significant different in log error for Los Angeles and Ventura County."
   ]
  },
  {
   "cell_type": "code",
   "execution_count": 70,
   "id": "fb3fb904",
   "metadata": {},
   "outputs": [
    {
     "data": {
      "text/plain": [
       "Ttest_indResult(statistic=-2.7295762208762, pvalue=0.006345368610063448)"
      ]
     },
     "execution_count": 70,
     "metadata": {},
     "output_type": "execute_result"
    }
   ],
   "source": [
    "stats.ttest_ind(\n",
    "    train.query('fips == 6037.0').logerror,\n",
    "    train.query('fips == 6111.0').logerror,\n",
    "    equal_var = True\n",
    ")"
   ]
  },
  {
   "cell_type": "markdown",
   "id": "80b76922",
   "metadata": {},
   "source": [
    "$H_0$: There is no difference in log error for Orange and Los Angeles County. \n",
    "\n",
    "$H_a$: There is a significant different in log error for Orange and Los Angeles County."
   ]
  },
  {
   "cell_type": "code",
   "execution_count": 71,
   "id": "9bb1c740",
   "metadata": {},
   "outputs": [
    {
     "data": {
      "text/plain": [
       "Ttest_indResult(statistic=2.658837258745088, pvalue=0.007850591636554086)"
      ]
     },
     "execution_count": 71,
     "metadata": {},
     "output_type": "execute_result"
    }
   ],
   "source": [
    "stats.ttest_ind(\n",
    "    train.query('fips == 6111.0').logerror,\n",
    "    train.query('fips == 6059.0').logerror,\n",
    "    equal_var = True\n",
    ")"
   ]
  },
  {
   "cell_type": "markdown",
   "id": "37c7988d",
   "metadata": {},
   "source": [
    "We conclude that there is no significant difference for logerror between homes in Los Angles and Orange County. \n",
    "\n",
    "However, Orange and Los Angeles County both have significantly different log error from Ventura County."
   ]
  },
  {
   "cell_type": "markdown",
   "id": "206424d2",
   "metadata": {},
   "source": [
    "## Is there a relationship between Tax Amount and logerror?"
   ]
  },
  {
   "cell_type": "markdown",
   "id": "84afa1db",
   "metadata": {},
   "source": [
    "### Graphs"
   ]
  },
  {
   "cell_type": "markdown",
   "id": "9201f179",
   "metadata": {},
   "source": [
    "#### Scatterplot"
   ]
  },
  {
   "cell_type": "code",
   "execution_count": 78,
   "id": "cc38c5de",
   "metadata": {},
   "outputs": [
    {
     "data": {
      "image/png": "[encoded data removed]",
      "text/plain": [
       "<Figure size 432x288 with 1 Axes>"
      ]
     },
     "metadata": {
      "needs_background": "light"
     },
     "output_type": "display_data"
    }
   ],
   "source": [
    "taxvalue_scatterplot = sns.scatterplot(data = train, \n",
    "                                      x = \"taxamount\", \n",
    "                                      y = \"logerror\")\n",
    "set_labels = taxvalue_scatterplot.set(xlabel='Tax Amount', ylabel = \"Log Error\", Title = \"Is there a relationship between log error and tax amount of a home?\")\n"
   ]
  },
  {
   "cell_type": "markdown",
   "id": "48437170",
   "metadata": {},
   "source": [
    "### Statistical Testing"
   ]
  },
  {
   "cell_type": "markdown",
   "id": "9b5080a4",
   "metadata": {},
   "source": [
    "$H_0$: There is no correlation between tax amount and log error.\n",
    "\n",
    "$H_a$: There is a correlation between tax amount and log error."
   ]
  },
  {
   "cell_type": "code",
   "execution_count": 79,
   "id": "3687cfbc",
   "metadata": {},
   "outputs": [
    {
     "data": {
      "text/plain": [
       "(0.001560409664754406, 0.7574454055872194)"
      ]
     },
     "execution_count": 79,
     "metadata": {},
     "output_type": "execute_result"
    }
   ],
   "source": [
    "test_results = stats.pearsonr(train.taxamount, train.logerror)\n",
    "test_results"
   ]
  },
  {
   "cell_type": "markdown",
   "id": "619fd529",
   "metadata": {},
   "source": [
    "Because our pvalue is high, we conclude there is no direct correlation between taxvalue of a home and log error."
   ]
  },
  {
   "cell_type": "markdown",
   "id": "312e2196",
   "metadata": {},
   "source": [
    "## Does the relationship between tax amount and log error change at a certain threshold of tax amount?"
   ]
  },
  {
   "cell_type": "markdown",
   "id": "08b74b23",
   "metadata": {},
   "source": [
    "### Bin Tax Amount Values"
   ]
  },
  {
   "cell_type": "code",
   "execution_count": 110,
   "id": "89dcb46d",
   "metadata": {},
   "outputs": [],
   "source": [
    "train['tax_amount_bin'] = pd.cut(train.taxamount, [0, 5000, 350000])"
   ]
  },
  {
   "cell_type": "code",
   "execution_count": 111,
   "id": "79daf4f7",
   "metadata": {},
   "outputs": [
    {
     "data": {
      "text/html": [
       "<div>\n",
       "<style scoped>\n",
       "    .dataframe tbody tr th:only-of-type {\n",
       "        vertical-align: middle;\n",
       "    }\n",
       "\n",
       "    .dataframe tbody tr th {\n",
       "        vertical-align: top;\n",
       "    }\n",
       "\n",
       "    .dataframe thead th {\n",
       "        text-align: right;\n",
       "    }\n",
       "</style>\n",
       "<table border=\"1\" class=\"dataframe\">\n",
       "  <thead>\n",
       "    <tr style=\"text-align: right;\">\n",
       "      <th></th>\n",
       "      <th>propertylandusetypeid</th>\n",
       "      <th>id</th>\n",
       "      <th>heatingorsystemtypeid</th>\n",
       "      <th>parcelid</th>\n",
       "      <th>bathroomcnt</th>\n",
       "      <th>bedroomcnt</th>\n",
       "      <th>buildingqualitytypeid</th>\n",
       "      <th>calculatedbathnbr</th>\n",
       "      <th>calculatedfinishedsquarefeet</th>\n",
       "      <th>finishedsquarefeet12</th>\n",
       "      <th>...</th>\n",
       "      <th>assessmentyear</th>\n",
       "      <th>landtaxvaluedollarcnt</th>\n",
       "      <th>taxamount</th>\n",
       "      <th>censustractandblock</th>\n",
       "      <th>heatingorsystemdesc</th>\n",
       "      <th>logerror</th>\n",
       "      <th>transactiondate</th>\n",
       "      <th>last_trans_date</th>\n",
       "      <th>propertylandusedesc</th>\n",
       "      <th>tax_amount_bin</th>\n",
       "    </tr>\n",
       "  </thead>\n",
       "  <tbody>\n",
       "    <tr>\n",
       "      <th>2462</th>\n",
       "      <td>261.0</td>\n",
       "      <td>2462.0</td>\n",
       "      <td>2.0</td>\n",
       "      <td>11020724.0</td>\n",
       "      <td>2.0</td>\n",
       "      <td>3.0</td>\n",
       "      <td>6.0</td>\n",
       "      <td>2.0</td>\n",
       "      <td>1406.0</td>\n",
       "      <td>1406.0</td>\n",
       "      <td>...</td>\n",
       "      <td>2016.0</td>\n",
       "      <td>360400.0</td>\n",
       "      <td>5727.60</td>\n",
       "      <td>6.037110e+13</td>\n",
       "      <td>Central</td>\n",
       "      <td>-0.009313</td>\n",
       "      <td>2017-01-12</td>\n",
       "      <td>2017-01-12</td>\n",
       "      <td>Single Family Residential</td>\n",
       "      <td>(5000, 350000]</td>\n",
       "    </tr>\n",
       "    <tr>\n",
       "      <th>74293</th>\n",
       "      <td>261.0</td>\n",
       "      <td>74293.0</td>\n",
       "      <td>2.0</td>\n",
       "      <td>11089877.0</td>\n",
       "      <td>2.0</td>\n",
       "      <td>4.0</td>\n",
       "      <td>6.0</td>\n",
       "      <td>2.0</td>\n",
       "      <td>1665.0</td>\n",
       "      <td>1665.0</td>\n",
       "      <td>...</td>\n",
       "      <td>2016.0</td>\n",
       "      <td>94356.0</td>\n",
       "      <td>3163.81</td>\n",
       "      <td>6.037113e+13</td>\n",
       "      <td>Central</td>\n",
       "      <td>0.109348</td>\n",
       "      <td>2017-09-07</td>\n",
       "      <td>2017-09-07</td>\n",
       "      <td>Single Family Residential</td>\n",
       "      <td>(0, 5000]</td>\n",
       "    </tr>\n",
       "    <tr>\n",
       "      <th>47347</th>\n",
       "      <td>261.0</td>\n",
       "      <td>47347.0</td>\n",
       "      <td>2.0</td>\n",
       "      <td>11075321.0</td>\n",
       "      <td>3.0</td>\n",
       "      <td>4.0</td>\n",
       "      <td>8.0</td>\n",
       "      <td>3.0</td>\n",
       "      <td>2365.0</td>\n",
       "      <td>2365.0</td>\n",
       "      <td>...</td>\n",
       "      <td>2016.0</td>\n",
       "      <td>173410.0</td>\n",
       "      <td>4548.83</td>\n",
       "      <td>6.037111e+13</td>\n",
       "      <td>Central</td>\n",
       "      <td>0.006360</td>\n",
       "      <td>2017-06-16</td>\n",
       "      <td>2017-06-16</td>\n",
       "      <td>Single Family Residential</td>\n",
       "      <td>(0, 5000]</td>\n",
       "    </tr>\n",
       "    <tr>\n",
       "      <th>32586</th>\n",
       "      <td>261.0</td>\n",
       "      <td>32586.0</td>\n",
       "      <td>2.0</td>\n",
       "      <td>11088659.0</td>\n",
       "      <td>2.0</td>\n",
       "      <td>3.0</td>\n",
       "      <td>6.0</td>\n",
       "      <td>2.0</td>\n",
       "      <td>1348.0</td>\n",
       "      <td>1348.0</td>\n",
       "      <td>...</td>\n",
       "      <td>2016.0</td>\n",
       "      <td>134526.0</td>\n",
       "      <td>3412.71</td>\n",
       "      <td>6.037113e+13</td>\n",
       "      <td>Central</td>\n",
       "      <td>0.011047</td>\n",
       "      <td>2017-05-03</td>\n",
       "      <td>2017-05-03</td>\n",
       "      <td>Single Family Residential</td>\n",
       "      <td>(0, 5000]</td>\n",
       "    </tr>\n",
       "    <tr>\n",
       "      <th>51749</th>\n",
       "      <td>261.0</td>\n",
       "      <td>51749.0</td>\n",
       "      <td>7.0</td>\n",
       "      <td>12342656.0</td>\n",
       "      <td>1.0</td>\n",
       "      <td>3.0</td>\n",
       "      <td>4.0</td>\n",
       "      <td>1.0</td>\n",
       "      <td>1062.0</td>\n",
       "      <td>1062.0</td>\n",
       "      <td>...</td>\n",
       "      <td>2016.0</td>\n",
       "      <td>167237.0</td>\n",
       "      <td>2988.15</td>\n",
       "      <td>6.037554e+13</td>\n",
       "      <td>Floor/Wall</td>\n",
       "      <td>0.021502</td>\n",
       "      <td>2017-06-29</td>\n",
       "      <td>2017-06-29</td>\n",
       "      <td>Single Family Residential</td>\n",
       "      <td>(0, 5000]</td>\n",
       "    </tr>\n",
       "  </tbody>\n",
       "</table>\n",
       "<p>5 rows × 36 columns</p>\n",
       "</div>"
      ],
      "text/plain": [
       "       propertylandusetypeid       id  heatingorsystemtypeid    parcelid  \\\n",
       "2462                   261.0   2462.0                    2.0  11020724.0   \n",
       "74293                  261.0  74293.0                    2.0  11089877.0   \n",
       "47347                  261.0  47347.0                    2.0  11075321.0   \n",
       "32586                  261.0  32586.0                    2.0  11088659.0   \n",
       "51749                  261.0  51749.0                    7.0  12342656.0   \n",
       "\n",
       "       bathroomcnt  bedroomcnt  buildingqualitytypeid  calculatedbathnbr  \\\n",
       "2462           2.0         3.0                    6.0                2.0   \n",
       "74293          2.0         4.0                    6.0                2.0   \n",
       "47347          3.0         4.0                    8.0                3.0   \n",
       "32586          2.0         3.0                    6.0                2.0   \n",
       "51749          1.0         3.0                    4.0                1.0   \n",
       "\n",
       "       calculatedfinishedsquarefeet  finishedsquarefeet12  ...  \\\n",
       "2462                         1406.0                1406.0  ...   \n",
       "74293                        1665.0                1665.0  ...   \n",
       "47347                        2365.0                2365.0  ...   \n",
       "32586                        1348.0                1348.0  ...   \n",
       "51749                        1062.0                1062.0  ...   \n",
       "\n",
       "       assessmentyear  landtaxvaluedollarcnt  taxamount  censustractandblock  \\\n",
       "2462           2016.0               360400.0    5727.60         6.037110e+13   \n",
       "74293          2016.0                94356.0    3163.81         6.037113e+13   \n",
       "47347          2016.0               173410.0    4548.83         6.037111e+13   \n",
       "32586          2016.0               134526.0    3412.71         6.037113e+13   \n",
       "51749          2016.0               167237.0    2988.15         6.037554e+13   \n",
       "\n",
       "       heatingorsystemdesc  logerror transactiondate  last_trans_date  \\\n",
       "2462               Central -0.009313      2017-01-12       2017-01-12   \n",
       "74293              Central  0.109348      2017-09-07       2017-09-07   \n",
       "47347              Central  0.006360      2017-06-16       2017-06-16   \n",
       "32586              Central  0.011047      2017-05-03       2017-05-03   \n",
       "51749           Floor/Wall  0.021502      2017-06-29       2017-06-29   \n",
       "\n",
       "             propertylandusedesc  tax_amount_bin  \n",
       "2462   Single Family Residential  (5000, 350000]  \n",
       "74293  Single Family Residential       (0, 5000]  \n",
       "47347  Single Family Residential       (0, 5000]  \n",
       "32586  Single Family Residential       (0, 5000]  \n",
       "51749  Single Family Residential       (0, 5000]  \n",
       "\n",
       "[5 rows x 36 columns]"
      ]
     },
     "execution_count": 111,
     "metadata": {},
     "output_type": "execute_result"
    }
   ],
   "source": [
    "train.head()"
   ]
  },
  {
   "cell_type": "markdown",
   "id": "ed8379bf",
   "metadata": {},
   "source": [
    "### Graphs"
   ]
  },
  {
   "cell_type": "markdown",
   "id": "642fb9b3",
   "metadata": {},
   "source": [
    "#### Value Counts"
   ]
  },
  {
   "cell_type": "code",
   "execution_count": 112,
   "id": "f8f65565",
   "metadata": {},
   "outputs": [
    {
     "data": {
      "text/plain": [
       "<AxesSubplot:title={'center':'Distribution of tax amount'}>"
      ]
     },
     "execution_count": 112,
     "metadata": {},
     "output_type": "execute_result"
    },
    {
     "data": {
      "image/png": "[encoded data removed]",
      "text/plain": [
       "<Figure size 432x288 with 1 Axes>"
      ]
     },
     "metadata": {
      "needs_background": "light"
     },
     "output_type": "display_data"
    }
   ],
   "source": [
    "train.tax_amount_bin.value_counts().plot.barh(title = \"Distribution of tax amount\")"
   ]
  },
  {
   "cell_type": "markdown",
   "id": "1cd75c12",
   "metadata": {},
   "source": [
    "#### Barplot"
   ]
  },
  {
   "cell_type": "code",
   "execution_count": 113,
   "id": "797af69a",
   "metadata": {},
   "outputs": [
    {
     "data": {
      "text/plain": [
       "<AxesSubplot:xlabel='tax_amount_bin', ylabel='logerror'>"
      ]
     },
     "execution_count": 113,
     "metadata": {},
     "output_type": "execute_result"
    },
    {
     "data": {
      "image/png": "[encoded data removed]",
      "text/plain": [
       "<Figure size 432x288 with 1 Axes>"
      ]
     },
     "metadata": {
      "needs_background": "light"
     },
     "output_type": "display_data"
    }
   ],
   "source": [
    "sns.barplot(data=train, y='logerror', x='tax_amount_bin')\n"
   ]
  },
  {
   "cell_type": "markdown",
   "id": "dd99b47d",
   "metadata": {},
   "source": [
    "### Statistical Testing"
   ]
  },
  {
   "cell_type": "markdown",
   "id": "734f2fbf",
   "metadata": {},
   "source": [
    "#### Testing for Variance "
   ]
  },
  {
   "cell_type": "markdown",
   "id": "0cc958ea",
   "metadata": {},
   "source": [
    "$H_0$: There is no difference in variance for logerror for properties that pay 5,000 dollars or less in taxes and properties that pay over 5,000 dollars in taxes.\n",
    "\n",
    "$H_a$: There is a difference in variance for logerror for properties that pay 5,000 dollars or less in taxes and properties that pay over 5,000 dollars in taxes."
   ]
  },
  {
   "cell_type": "code",
   "execution_count": 114,
   "id": "d54f52fb",
   "metadata": {},
   "outputs": [
    {
     "data": {
      "text/plain": [
       "LeveneResult(statistic=0.16630477584868666, pvalue=0.6834191991510213)"
      ]
     },
     "execution_count": 114,
     "metadata": {},
     "output_type": "execute_result"
    }
   ],
   "source": [
    "stats.levene(\n",
    "    train[train.taxamount <= 5000].logerror,\n",
    "    train[train.taxamount > 5000].logerror,\n",
    ")"
   ]
  },
  {
   "cell_type": "markdown",
   "id": "022153fc",
   "metadata": {},
   "source": [
    "Because our pvalue is high, we fail to reject the null hypothesis that there is no differece in variance for log error between or two bins."
   ]
  },
  {
   "cell_type": "markdown",
   "id": "944d5173",
   "metadata": {},
   "source": [
    "#### T Test"
   ]
  },
  {
   "cell_type": "markdown",
   "id": "e9375092",
   "metadata": {},
   "source": [
    "$H_0$: There is no difference in logerror for properties that pay 5,000 dollars or less in taxes and properties that pay over 5,000 dollars in taxes.\n",
    "\n",
    "$H_a$: There is a difference in logerror for properties that pay 5,000 dollars or less in taxes and properties that pay over 5,000 dollars in taxes."
   ]
  },
  {
   "cell_type": "code",
   "execution_count": 141,
   "id": "3cc0a273",
   "metadata": {},
   "outputs": [
    {
     "data": {
      "text/plain": [
       "Ttest_indResult(statistic=-1.5306433646053854, pvalue=0.12586563299309636)"
      ]
     },
     "execution_count": 141,
     "metadata": {},
     "output_type": "execute_result"
    }
   ],
   "source": [
    "stats.ttest_ind(\n",
    "    train[train.taxamount <= 5000].logerror,\n",
    "    train[train.taxamount > 5000].logerror,\n",
    "    equal_var=True\n",
    ")\n"
   ]
  },
  {
   "cell_type": "markdown",
   "id": "b00e6bc8",
   "metadata": {},
   "source": [
    "#### Conclusion"
   ]
  },
  {
   "cell_type": "markdown",
   "id": "f4017126",
   "metadata": {},
   "source": [
    "We fail to reject the null hypothesis log error is signficantly different for properties that pay more than 5000 in taxes and properties that pay less than or equal to 5000 in taxes."
   ]
  },
  {
   "cell_type": "markdown",
   "id": "bf93edbc",
   "metadata": {},
   "source": [
    "## If we control for tax amount, does logerror differ between counties?"
   ]
  },
  {
   "cell_type": "markdown",
   "id": "4e91cfd2",
   "metadata": {},
   "source": [
    "### Graph"
   ]
  },
  {
   "cell_type": "markdown",
   "id": "c24ca703",
   "metadata": {},
   "source": [
    "#### Barplot, groups by taxamount bins"
   ]
  },
  {
   "cell_type": "code",
   "execution_count": 134,
   "id": "956c74b8",
   "metadata": {},
   "outputs": [
    {
     "data": {
      "image/png": "[encoded data removed]",
      "text/plain": [
       "<Figure size 432x288 with 1 Axes>"
      ]
     },
     "metadata": {
      "needs_background": "light"
     },
     "output_type": "display_data"
    }
   ],
   "source": [
    "county_log_error = sns.barplot(data = train, y = 'logerror', x = 'fips', hue = 'tax_amount_bin', palette = \"bright\")\n",
    "title = plt.title(\"Barplot: Is there a difference in the logerror of a property depending on the county, taking tax amount into account?\")\n",
    "xlabel = plt.xlabel(\"County\")\n",
    "ylabel = plt.ylabel(\"LogError\")\n",
    "xticks = county_log_error.set_xticklabels([\"Los Angeles, 6037\", \"Orange, 6059\", \"Ventura, 6111\"])"
   ]
  },
  {
   "cell_type": "markdown",
   "id": "b700b103",
   "metadata": {},
   "source": [
    "### Statistical Testing"
   ]
  },
  {
   "cell_type": "code",
   "execution_count": 18,
   "id": "9357b934",
   "metadata": {},
   "outputs": [],
   "source": [
    "low_tax = train[train.taxamount <= 5000]\n",
    "high_tax = train[train.taxamount > 5000]"
   ]
  },
  {
   "cell_type": "markdown",
   "id": "de3de6c7",
   "metadata": {},
   "source": [
    "#### Testing for Variance"
   ]
  },
  {
   "cell_type": "markdown",
   "id": "f7df2f37",
   "metadata": {},
   "source": [
    "$H_0$: For properties that pay over 5,000 in taxes, there is no difference in variance for logerror for properties in Ventura County and properties in either Los Angeles or Orange County. \n",
    "\n",
    "$H_a$: For properties that pay over 5,000 in taxes, there is a difference in variance for logerror for properties in Ventura County and properties in either Los Angeles or Orange County. "
   ]
  },
  {
   "cell_type": "code",
   "execution_count": 46,
   "id": "8c34bfda",
   "metadata": {},
   "outputs": [
    {
     "data": {
      "text/plain": [
       "LeveneResult(statistic=0.015824977058777084, pvalue=0.8998940621851749)"
      ]
     },
     "execution_count": 46,
     "metadata": {},
     "output_type": "execute_result"
    }
   ],
   "source": [
    "stats.levene(\n",
    "     high_tax[high_tax.fips == 6111.0].logerror,\n",
    "    high_tax[high_tax.fips != 6111.0].logerror,\n",
    ")"
   ]
  },
  {
   "cell_type": "markdown",
   "id": "e1440ce7",
   "metadata": {},
   "source": [
    "Because our pvalue is high, we fail to reject the null hypothesis that there is a significant difference in variance of logerror for the two groups."
   ]
  },
  {
   "cell_type": "markdown",
   "id": "657a9608",
   "metadata": {},
   "source": [
    "#### T test"
   ]
  },
  {
   "cell_type": "code",
   "execution_count": 144,
   "id": "4e043486",
   "metadata": {},
   "outputs": [
    {
     "data": {
      "text/plain": [
       "Ttest_indResult(statistic=1.622236871941684, pvalue=0.10477426237468493)"
      ]
     },
     "execution_count": 144,
     "metadata": {},
     "output_type": "execute_result"
    }
   ],
   "source": [
    "stats.ttest_ind(\n",
    "    high_tax[high_tax.fips == 6111.0].logerror,\n",
    "    high_tax[high_tax.fips != 6111.0].logerror,\n",
    "    equal_var=True\n",
    ")"
   ]
  },
  {
   "cell_type": "markdown",
   "id": "f2f48bb1",
   "metadata": {},
   "source": [
    "Because our pvalue is high, we fail to reject the null hypothesis that there is a difference in logerror for our two groups."
   ]
  },
  {
   "cell_type": "markdown",
   "id": "57b14b28",
   "metadata": {},
   "source": [
    "#### Testing for Variance"
   ]
  },
  {
   "cell_type": "markdown",
   "id": "d8fb9b98",
   "metadata": {},
   "source": [
    "$H_0$: For properties that pay 5,000 dollars or less in taxes, there is no difference in variance for logerror for properties in Ventura County and properties in either Los Angeles or Orange County. \n",
    "\n",
    "$H_a$: For properties that pay 5,000 dollars or less in taxes, there is a difference in variance for logerror for properties in Ventura County and properties in either Los Angeles or Orange County. "
   ]
  },
  {
   "cell_type": "code",
   "execution_count": 47,
   "id": "46461ec8",
   "metadata": {},
   "outputs": [
    {
     "data": {
      "text/plain": [
       "LeveneResult(statistic=0.8590400890334017, pvalue=0.35401655106598284)"
      ]
     },
     "execution_count": 47,
     "metadata": {},
     "output_type": "execute_result"
    }
   ],
   "source": [
    "stats.levene(\n",
    "    low_tax[low_tax.fips == 6111.0].logerror,\n",
    "    low_tax[low_tax.fips != 6111.0].logerror,\n",
    ")"
   ]
  },
  {
   "cell_type": "markdown",
   "id": "c797c0b9",
   "metadata": {},
   "source": [
    "Because our pvalue is high, we conclude that there is no significant difference in variance for the two groups."
   ]
  },
  {
   "cell_type": "markdown",
   "id": "619a3a77",
   "metadata": {},
   "source": [
    "#### T test"
   ]
  },
  {
   "cell_type": "markdown",
   "id": "b20d89be",
   "metadata": {},
   "source": [
    "$H_0$: For properties that pay 5,000 dollars or less in taxes, there is no difference in logerror for properties in Ventura County and properties in either Los Angeles or Orange County. \n",
    "\n",
    "$H_a$: For properties that pay 5,000 dollars or less in taxes, there is a difference in logerror for properties in Ventura County and properties in either Los Angeles or Orange County. "
   ]
  },
  {
   "cell_type": "code",
   "execution_count": 19,
   "id": "ecbc1717",
   "metadata": {},
   "outputs": [
    {
     "data": {
      "text/plain": [
       "Ttest_indResult(statistic=2.3697816272285097, pvalue=0.01780626674674716)"
      ]
     },
     "execution_count": 19,
     "metadata": {},
     "output_type": "execute_result"
    }
   ],
   "source": [
    "stats.ttest_ind(\n",
    "    low_tax[low_tax.fips == 6111.0].logerror,\n",
    "    low_tax[low_tax.fips != 6111.0].logerror,\n",
    "    equal_var=True\n",
    ")"
   ]
  },
  {
   "cell_type": "markdown",
   "id": "51e16801",
   "metadata": {},
   "source": [
    "#### Conclusion"
   ]
  },
  {
   "cell_type": "markdown",
   "id": "73295172",
   "metadata": {},
   "source": [
    "When we control for tax amount, the low tax group still has a significant difference in log error in Orange/Los Angeles vs. Ventura County. The high tax group does not."
   ]
  },
  {
   "cell_type": "markdown",
   "id": "09ce499e",
   "metadata": {},
   "source": [
    "## Does Log Error Significantly Differ by Bedroom Count?"
   ]
  },
  {
   "cell_type": "markdown",
   "id": "e22eee73",
   "metadata": {},
   "source": [
    "### Graphs"
   ]
  },
  {
   "cell_type": "markdown",
   "id": "95019f3a",
   "metadata": {},
   "source": [
    "#### Barplot"
   ]
  },
  {
   "cell_type": "code",
   "execution_count": 22,
   "id": "39c42c1a",
   "metadata": {},
   "outputs": [
    {
     "data": {
      "image/png": "[encoded data removed]",
      "text/plain": [
       "<Figure size 432x288 with 1 Axes>"
      ]
     },
     "metadata": {
      "needs_background": "light"
     },
     "output_type": "display_data"
    }
   ],
   "source": [
    "sns.set_palette(\"bright\")\n",
    "bedroomcnt_logerror = sns.barplot(x = train.bedroomcnt, y = train.logerror)\n",
    "labels = bedroomcnt_logerror.set(Title = \"Log Error by Number of Bedrooms\", xlabel = \"Number of bedrooms\", ylabel=\"LogError\")"
   ]
  },
  {
   "cell_type": "markdown",
   "id": "e724ee21",
   "metadata": {},
   "source": [
    "#### Value Counts"
   ]
  },
  {
   "cell_type": "code",
   "execution_count": 37,
   "id": "5cb64786",
   "metadata": {},
   "outputs": [
    {
     "data": {
      "text/plain": [
       "0.0       175\n",
       "1.0      1194\n",
       "2.0      8547\n",
       "3.0     16556\n",
       "4.0      9952\n",
       "5.0      2305\n",
       "6.0       355\n",
       "7.0        66\n",
       "8.0        18\n",
       "9.0         6\n",
       "10.0        1\n",
       "Name: bedroomcnt, dtype: int64"
      ]
     },
     "execution_count": 37,
     "metadata": {},
     "output_type": "execute_result"
    }
   ],
   "source": [
    "train.bedroomcnt.value_counts().sort_index()"
   ]
  },
  {
   "cell_type": "code",
   "execution_count": 36,
   "id": "27e34ce3",
   "metadata": {},
   "outputs": [
    {
     "data": {
      "image/png": "[encoded data removed]",
      "text/plain": [
       "<Figure size 432x288 with 1 Axes>"
      ]
     },
     "metadata": {
      "needs_background": "light"
     },
     "output_type": "display_data"
    }
   ],
   "source": [
    "value_counts_barplot = train.bedroomcnt.value_counts().sort_index(ascending = True).plot.bar(title = \"Number of Properties by Bedroom Count\", xlabel = \"Number of Bedrooms\", ylabel = \"Number of Properties\")"
   ]
  },
  {
   "cell_type": "markdown",
   "id": "9b3bb8fe",
   "metadata": {},
   "source": [
    "### Statistical Testing"
   ]
  },
  {
   "cell_type": "markdown",
   "id": "b1618036",
   "metadata": {},
   "source": [
    "#### Testing Variance"
   ]
  },
  {
   "cell_type": "markdown",
   "id": "d88714ec",
   "metadata": {},
   "source": [
    "$H_0$: There is no significant difference in variance of log error for properties with three or less bedrooms and properties with three or more bedrooms.\n",
    "\n",
    "$H_a$:  There is a significant difference in variance of log error for properties with three or less bedrooms and properties with three or more bedrooms."
   ]
  },
  {
   "cell_type": "code",
   "execution_count": 39,
   "id": "d7e4cdf7",
   "metadata": {},
   "outputs": [
    {
     "data": {
      "text/plain": [
       "LeveneResult(statistic=0.7489259151804459, pvalue=0.38682180531220967)"
      ]
     },
     "execution_count": 39,
     "metadata": {},
     "output_type": "execute_result"
    }
   ],
   "source": [
    "stats.levene(\n",
    "    train[train.bedroomcnt <= 3.0].logerror,\n",
    "    train[train.bedroomcnt > 3.0].logerror,\n",
    ")"
   ]
  },
  {
   "cell_type": "markdown",
   "id": "bedbc98c",
   "metadata": {},
   "source": [
    "Because our pvalue is low we fail to reject the null hypothesis and conclude that there is no difference in variance of logerror for the two groups."
   ]
  },
  {
   "cell_type": "markdown",
   "id": "40e5087c",
   "metadata": {},
   "source": [
    "#### T Test"
   ]
  },
  {
   "cell_type": "markdown",
   "id": "21b8e25a",
   "metadata": {},
   "source": [
    "$H_0$: There is no significant difference in log error for properties with three or less bedrooms and properties with three or more bedrooms.\n",
    "\n",
    "$H_a$:  There is a significant difference in log error for properties with three or less bedrooms and properties with three or more bedrooms."
   ]
  },
  {
   "cell_type": "code",
   "execution_count": 19,
   "id": "55adb1a2",
   "metadata": {},
   "outputs": [
    {
     "data": {
      "text/plain": [
       "Ttest_indResult(statistic=-1.9467335277685935, pvalue=0.0515738278860477)"
      ]
     },
     "execution_count": 19,
     "metadata": {},
     "output_type": "execute_result"
    }
   ],
   "source": [
    "stats.ttest_ind(\n",
    "    train[train.bedroomcnt <= 3.0].logerror,\n",
    "    train[train.bedroomcnt > 3.0].logerror,\n",
    "    equal_var=True\n",
    ")\n",
    "\n"
   ]
  },
  {
   "cell_type": "markdown",
   "id": "d66f3249",
   "metadata": {},
   "source": [
    "We fail to reject the null hypothesis, but just barely. "
   ]
  },
  {
   "cell_type": "markdown",
   "id": "ee1e92bf",
   "metadata": {},
   "source": [
    "## Does Log Error Differ by Bathroom Count?"
   ]
  },
  {
   "cell_type": "markdown",
   "id": "d739a8bc",
   "metadata": {},
   "source": [
    "### Graphs"
   ]
  },
  {
   "cell_type": "markdown",
   "id": "e39b8533",
   "metadata": {},
   "source": [
    "#### Barplot"
   ]
  },
  {
   "cell_type": "code",
   "execution_count": 41,
   "id": "40be21fd",
   "metadata": {},
   "outputs": [
    {
     "data": {
      "image/png": "[encoded data removed]",
      "text/plain": [
       "<Figure size 432x288 with 1 Axes>"
      ]
     },
     "metadata": {
      "needs_background": "light"
     },
     "output_type": "display_data"
    }
   ],
   "source": [
    "bathroomcnt_logerror = sns.barplot(x = train.bathroomcnt, y = train.logerror)\n",
    "rotation = plt.xticks(rotation = 45)\n",
    "labels = bathroomcnt_logerror.set(Title = \"Log Error by Bathroom Count\", xlabel = \"Total Number of Bathrooms\", ylabel = \"LogError\")"
   ]
  },
  {
   "cell_type": "markdown",
   "id": "0ce39ac9",
   "metadata": {},
   "source": [
    "#### Value Counts"
   ]
  },
  {
   "cell_type": "code",
   "execution_count": 42,
   "id": "d28a1764",
   "metadata": {},
   "outputs": [
    {
     "data": {
      "text/plain": [
       "0.0       112\n",
       "1.0      7053\n",
       "1.5       616\n",
       "2.0     16710\n",
       "2.5      2983\n",
       "3.0      8693\n",
       "3.5       485\n",
       "4.0      1372\n",
       "4.5       271\n",
       "5.0       487\n",
       "5.5        96\n",
       "6.0       161\n",
       "6.5        15\n",
       "7.0        65\n",
       "7.5         6\n",
       "8.0        21\n",
       "8.5         3\n",
       "9.0        17\n",
       "10.0        6\n",
       "11.0        1\n",
       "13.0        1\n",
       "19.5        1\n",
       "Name: bathroomcnt, dtype: int64"
      ]
     },
     "execution_count": 42,
     "metadata": {},
     "output_type": "execute_result"
    }
   ],
   "source": [
    "train.bathroomcnt.value_counts().sort_index()"
   ]
  },
  {
   "cell_type": "code",
   "execution_count": 45,
   "id": "2b7e905a",
   "metadata": {},
   "outputs": [
    {
     "data": {
      "text/plain": [
       "<AxesSubplot:title={'center':'Number of Properies by Bathroom Count'}, xlabel='Number of Bathrooms', ylabel='Number of Properties'>"
      ]
     },
     "execution_count": 45,
     "metadata": {},
     "output_type": "execute_result"
    },
    {
     "data": {
      "image/png": "[encoded data removed]",
      "text/plain": [
       "<Figure size 432x288 with 1 Axes>"
      ]
     },
     "metadata": {
      "needs_background": "light"
     },
     "output_type": "display_data"
    }
   ],
   "source": [
    "train.bathroomcnt.value_counts().sort_index().plot.bar(title = \"Number of Properies by Bathroom Count\", xlabel = \"Number of Bathrooms\", ylabel = \"Number of Properties\")"
   ]
  },
  {
   "cell_type": "markdown",
   "id": "38c1bde4",
   "metadata": {},
   "source": [
    "### Statistical Testing"
   ]
  },
  {
   "cell_type": "markdown",
   "id": "6a431dfb",
   "metadata": {},
   "source": [
    "#### Testing for Variance"
   ]
  },
  {
   "cell_type": "markdown",
   "id": "3fc574b6",
   "metadata": {},
   "source": [
    "$H_0$: There is no difference in variance of logerror for properties with three of less bathrooms and properties with more than three bathrooms. \n",
    "\n",
    "$H_a$: There is a difference in variance of logerror for properties with three of less bathrooms and properties with more than three bathrooms. "
   ]
  },
  {
   "cell_type": "code",
   "execution_count": 48,
   "id": "37a0d119",
   "metadata": {},
   "outputs": [
    {
     "data": {
      "text/plain": [
       "LeveneResult(statistic=0.7191602721073682, pvalue=0.39642467482098875)"
      ]
     },
     "execution_count": 48,
     "metadata": {},
     "output_type": "execute_result"
    }
   ],
   "source": [
    "stats.levene(\n",
    "    train[train.bathroomcnt <= 3.0].logerror,\n",
    "    train[train.bathroomcnt >3.0].logerror,\n",
    ")\n",
    "\n"
   ]
  },
  {
   "cell_type": "markdown",
   "id": "73eaef9b",
   "metadata": {},
   "source": [
    "#### T test"
   ]
  },
  {
   "cell_type": "markdown",
   "id": "c6c2ff36",
   "metadata": {},
   "source": [
    "$H_0$: There is no difference in logerror for properties with three of less bathrooms and properties with more than three bathrooms. \n",
    "\n",
    "$H_a$: There is a difference in logerror for properties with three of less bathrooms and properties with more than three bathrooms. "
   ]
  },
  {
   "cell_type": "code",
   "execution_count": 25,
   "id": "7944c4d2",
   "metadata": {},
   "outputs": [
    {
     "data": {
      "text/plain": [
       "Ttest_indResult(statistic=-2.1467275845759373, pvalue=0.031821096233265074)"
      ]
     },
     "execution_count": 25,
     "metadata": {},
     "output_type": "execute_result"
    }
   ],
   "source": [
    "stats.ttest_ind(\n",
    "    train[train.bathroomcnt <= 3.0].logerror,\n",
    "    train[train.bathroomcnt >3.0].logerror,\n",
    "    equal_var=True\n",
    ")\n",
    "\n",
    "\n"
   ]
  },
  {
   "cell_type": "markdown",
   "id": "57d851b0",
   "metadata": {},
   "source": [
    "There is a significant difference in mean log error for homes with three or less bathrooms and homes with three or more bathrooms."
   ]
  },
  {
   "cell_type": "markdown",
   "id": "38531c77",
   "metadata": {},
   "source": [
    "## Map"
   ]
  },
  {
   "cell_type": "code",
   "execution_count": 168,
   "id": "3197f444",
   "metadata": {},
   "outputs": [
    {
     "data": {
      "text/plain": [
       "<AxesSubplot:xlabel='longitude', ylabel='latitude'>"
      ]
     },
     "execution_count": 168,
     "metadata": {},
     "output_type": "execute_result"
    },
    {
     "data": {
      "image/png": "[encoded data removed]",
      "text/plain": [
       "<Figure size 432x288 with 1 Axes>"
      ]
     },
     "metadata": {
      "needs_background": "light"
     },
     "output_type": "display_data"
    }
   ],
   "source": [
    "sns.scatterplot(x = train.longitude, y=train.latitude, hue = train.fips, palette = ['blue', 'orange', 'green'])"
   ]
  },
  {
   "cell_type": "markdown",
   "id": "150b528c",
   "metadata": {},
   "source": [
    "## Log Error By ZipCode"
   ]
  },
  {
   "cell_type": "code",
   "execution_count": 111,
   "id": "2283d35d",
   "metadata": {},
   "outputs": [
    {
     "data": {
      "text/plain": [
       "0.01697526192285194"
      ]
     },
     "execution_count": 111,
     "metadata": {},
     "output_type": "execute_result"
    }
   ],
   "source": [
    "overall_log_error = train.logerror.mean()\n",
    "overall_log_error"
   ]
  },
  {
   "cell_type": "code",
   "execution_count": 143,
   "id": "536d2daa",
   "metadata": {},
   "outputs": [
    {
     "data": {
      "text/html": [
       "<div>\n",
       "<style scoped>\n",
       "    .dataframe tbody tr th:only-of-type {\n",
       "        vertical-align: middle;\n",
       "    }\n",
       "\n",
       "    .dataframe tbody tr th {\n",
       "        vertical-align: top;\n",
       "    }\n",
       "\n",
       "    .dataframe thead th {\n",
       "        text-align: right;\n",
       "    }\n",
       "</style>\n",
       "<table border=\"1\" class=\"dataframe\">\n",
       "  <thead>\n",
       "    <tr style=\"text-align: right;\">\n",
       "      <th></th>\n",
       "      <th>regionidzip</th>\n",
       "      <th>logerror</th>\n",
       "    </tr>\n",
       "  </thead>\n",
       "  <tbody>\n",
       "    <tr>\n",
       "      <th>2462</th>\n",
       "      <td>96371.0</td>\n",
       "      <td>-0.009313</td>\n",
       "    </tr>\n",
       "    <tr>\n",
       "      <th>74293</th>\n",
       "      <td>96346.0</td>\n",
       "      <td>0.109348</td>\n",
       "    </tr>\n",
       "    <tr>\n",
       "      <th>47347</th>\n",
       "      <td>96356.0</td>\n",
       "      <td>0.006360</td>\n",
       "    </tr>\n",
       "    <tr>\n",
       "      <th>32586</th>\n",
       "      <td>96346.0</td>\n",
       "      <td>0.011047</td>\n",
       "    </tr>\n",
       "    <tr>\n",
       "      <th>51749</th>\n",
       "      <td>96208.0</td>\n",
       "      <td>0.021502</td>\n",
       "    </tr>\n",
       "    <tr>\n",
       "      <th>...</th>\n",
       "      <td>...</td>\n",
       "      <td>...</td>\n",
       "    </tr>\n",
       "    <tr>\n",
       "      <th>29456</th>\n",
       "      <td>96186.0</td>\n",
       "      <td>0.055858</td>\n",
       "    </tr>\n",
       "    <tr>\n",
       "      <th>25019</th>\n",
       "      <td>96522.0</td>\n",
       "      <td>-0.017511</td>\n",
       "    </tr>\n",
       "    <tr>\n",
       "      <th>25995</th>\n",
       "      <td>97008.0</td>\n",
       "      <td>0.049334</td>\n",
       "    </tr>\n",
       "    <tr>\n",
       "      <th>40573</th>\n",
       "      <td>97005.0</td>\n",
       "      <td>0.026122</td>\n",
       "    </tr>\n",
       "    <tr>\n",
       "      <th>18266</th>\n",
       "      <td>97317.0</td>\n",
       "      <td>0.233144</td>\n",
       "    </tr>\n",
       "  </tbody>\n",
       "</table>\n",
       "<p>39175 rows × 2 columns</p>\n",
       "</div>"
      ],
      "text/plain": [
       "       regionidzip  logerror\n",
       "2462       96371.0 -0.009313\n",
       "74293      96346.0  0.109348\n",
       "47347      96356.0  0.006360\n",
       "32586      96346.0  0.011047\n",
       "51749      96208.0  0.021502\n",
       "...            ...       ...\n",
       "29456      96186.0  0.055858\n",
       "25019      96522.0 -0.017511\n",
       "25995      97008.0  0.049334\n",
       "40573      97005.0  0.026122\n",
       "18266      97317.0  0.233144\n",
       "\n",
       "[39175 rows x 2 columns]"
      ]
     },
     "execution_count": 143,
     "metadata": {},
     "output_type": "execute_result"
    }
   ],
   "source": [
    "log_error = train[[\"regionidzip\", \"logerror\"]]\n",
    "log_error"
   ]
  },
  {
   "cell_type": "code",
   "execution_count": 153,
   "id": "860ba595",
   "metadata": {},
   "outputs": [],
   "source": [
    "list_of_zip = log_error['regionidzip'].unique()"
   ]
  },
  {
   "cell_type": "code",
   "execution_count": 152,
   "id": "85acc870",
   "metadata": {
    "scrolled": false
   },
   "outputs": [
    {
     "name": "stdout",
     "output_type": "stream",
     "text": [
      "96371.0\n",
      "0.7493694290695808 0.4563381215637017\n",
      "96346.0\n",
      "0.7856391103015722 0.4331293616184506\n",
      "96356.0\n",
      "0.16767381487106928 0.8670093205440904\n",
      "96208.0\n",
      "-1.6237748205320974 0.1067916325546246\n",
      "96236.0\n",
      "-0.680804946219362 0.4973754031355303\n",
      "96354.0\n",
      "-1.1583299530619038 0.24979389424705095\n",
      "96364.0\n",
      "-0.2678042675198544 0.7890631344918655\n",
      "96383.0\n",
      "-0.7407030531511141 0.4597008961985748\n",
      "96014.0\n",
      "-3.2096805499987124 0.004857977943410482\n",
      "97099.0\n",
      "-0.0845980598422399 0.9327775676600271\n",
      "96531.0\n",
      "1.4004935290560332 0.16380404879134788\n",
      "96464.0\n",
      "0.47403202983780146 0.6361398591035627\n",
      "97118.0\n",
      "1.3221778172928658 0.18682853821536022\n",
      "97065.0\n",
      "-1.4005483823629326 0.1636778625006065\n",
      "96268.0\n",
      "-0.6815314058980912 0.4970077722351045\n",
      "96017.0\n",
      "-2.251798528738938 0.029894997121659057\n",
      "96974.0\n",
      "-0.25875147262938036 0.7960780536556468\n",
      "96947.0\n",
      "-0.7817504113935905 0.43634700358205347\n",
      "96496.0\n",
      "0.5404267468504619 0.5898346152956644\n",
      "96492.0\n",
      "0.27180784935111946 0.786124608833368\n",
      "96446.0\n",
      "-2.476309164035164 0.016064612733050612\n",
      "96961.0\n",
      "0.9897052705498455 0.32418540100958915\n",
      "97317.0\n",
      "-0.8178096352679562 0.41542984325898\n",
      "96171.0\n",
      "-2.0252474868425567 0.04609517774297368\n",
      "97066.0\n",
      "0.6318200666177666 0.5306321225368384\n",
      "97007.0\n",
      "-1.6605807688552552 0.09926466382238476\n",
      "96465.0\n",
      "-2.714990925725979 0.007245016147175063\n",
      "96293.0\n",
      "0.4333404936114526 0.6664622797889085\n",
      "96134.0\n",
      "-1.9328217878207574 0.057685374535915046\n",
      "96489.0\n",
      "-1.0878249679327012 0.27801509224499527\n",
      "96102.0\n",
      "0.6270394066688196 0.532169773603524\n",
      "97316.0\n",
      "-0.951931517093121 0.35622002030635547\n",
      "97026.0\n",
      "0.3193549676116241 0.7498588863378866\n",
      "97035.0\n",
      "-0.21677131472604533 0.8287021322365591\n",
      "96225.0\n",
      "0.6415696111881006 0.5232479619171435\n",
      "96361.0\n",
      "0.924322869817436 0.3561466428049197\n",
      "95983.0\n",
      "0.29632227172334924 0.7677817401764686\n",
      "96478.0\n",
      "-1.127266720731325 0.2642717622814562\n",
      "96373.0\n",
      "0.19073597933091385 0.848972750676884\n",
      "96378.0\n",
      "-1.6408733087073044 0.1027285754461442\n",
      "97089.0\n",
      "1.56845116746026 0.11850336610794715\n",
      "96517.0\n",
      "0.3963234903305783 0.6926411910272893\n",
      "96295.0\n",
      "-2.2315464121596262 0.0274414129350645\n",
      "96267.0\n",
      "-1.3639100360805418 0.17495276457610273\n",
      "96100.0\n",
      "0.5419724248975233 0.5891621557903628\n",
      "96116.0\n",
      "-0.8977742650117793 0.37142016288039226\n",
      "96375.0\n",
      "-2.7369877206182665 0.007075784447503374\n",
      "97064.0\n",
      "-1.4733804850095777 0.14867448894162036\n",
      "96001.0\n",
      "0.9761500758488778 0.3379856444934364\n",
      "96028.0\n",
      "-1.490552357073158 0.13825121228939663\n",
      "96086.0\n",
      "0.26655704397477153 0.7903431415436114\n",
      "96510.0\n",
      "-2.3944756362008777 0.017895693941241065\n",
      "97104.0\n",
      "-0.07558436055018043 0.9398346616353364\n",
      "96047.0\n",
      "1.0336217154235152 0.30274750480584256\n",
      "96954.0\n",
      "0.30575373322244437 0.7601183167479741\n",
      "96379.0\n",
      "0.43402285164357907 0.6649038912693694\n",
      "96341.0\n",
      "0.9319434497041945 0.35266450481665923\n",
      "96998.0\n",
      "-0.4370075089866656 0.6629114060525649\n",
      "96124.0\n",
      "-0.2328038971459885 0.816291432930507\n",
      "96401.0\n",
      "-0.6380804949567177 0.5244140329707725\n",
      "96971.0\n",
      "-0.5087880150377486 0.6117976893616164\n",
      "95989.0\n",
      "1.4333508490997922 0.156273447597932\n",
      "96349.0\n",
      "-0.7399318093345119 0.4606755308196181\n",
      "96247.0\n",
      "0.6785628390038496 0.49842027184477644\n",
      "96049.0\n",
      "-0.45236694186056875 0.6522289508138439\n",
      "96101.0\n",
      "0.48412234292440165 0.629529630375675\n",
      "96387.0\n",
      "-2.0865992059517975 0.038791603704076014\n",
      "96993.0\n",
      "-1.6746000625269715 0.09584063297510907\n",
      "96121.0\n",
      "1.00850918904346 0.3153839385715288\n",
      "97041.0\n",
      "-0.4271467967442371 0.6698361054183639\n",
      "96005.0\n",
      "-1.912197097788421 0.058525126546373665\n",
      "96414.0\n",
      "0.0936763430226609 0.9255464959909704\n",
      "95997.0\n",
      "0.102250115000878 0.918804778798968\n",
      "96025.0\n",
      "-0.06981349243089642 0.9444815266360176\n",
      "96966.0\n",
      "0.3368083670721229 0.7367229104846673\n",
      "96411.0\n",
      "-1.9998784772840443 0.04768117795663813\n",
      "96137.0\n",
      "-1.5596742538398545 0.12437237472370345\n",
      "96122.0\n",
      "0.9373271245451782 0.3496826292514984\n",
      "96941.0\n",
      "-0.8204543998900307 0.41378116752820615\n",
      "96385.0\n",
      "0.9273433837410386 0.3549309895043482\n",
      "96995.0\n",
      "-1.449408806521168 0.1486539100344643\n",
      "97050.0\n",
      "0.729393854640056 0.4675743815196408\n",
      "97068.0\n",
      "-0.46430590309411124 0.6429927998133587\n",
      "97330.0\n",
      "-0.1499557325653789 0.8809920110421963\n",
      "96103.0\n",
      "1.3430408052540144 0.18630502691812292\n",
      "97078.0\n",
      "-0.36427462606436206 0.7160109489283215\n",
      "96508.0\n",
      "-1.0341038451353457 0.3045485500976846\n",
      "96967.0\n",
      "-0.7772105862593618 0.4382667390883034\n",
      "96149.0\n",
      "-1.1676112729622588 0.24766064084915745\n",
      "96242.0\n",
      "0.07870671628933242 0.9373470262514018\n",
      "96163.0\n",
      "1.105656413559219 0.2711055809394602\n",
      "96377.0\n",
      "-1.7352273306897064 0.08483995459950495\n",
      "96449.0\n",
      "0.6853235627810622 0.49439866542718147\n",
      "97063.0\n",
      "0.8831819155253746 0.38112657426761287\n",
      "96193.0\n",
      "-0.8316279261874817 0.4062871127528074\n",
      "96183.0\n",
      "0.18644497044847752 0.8527247917191836\n",
      "96023.0\n",
      "0.9327174314876712 0.35266880414379986\n",
      "97003.0\n",
      "-1.2777843900047685 0.2043750244962745\n",
      "96964.0\n",
      "1.2297119988403635 0.21989561230520918\n",
      "97328.0\n",
      "-0.4560702037992368 0.6487216702629941\n",
      "96026.0\n",
      "-2.358033169684998 0.019679966088632064\n",
      "96090.0\n",
      "0.2918369248503272 0.7708694605351343\n",
      "96433.0\n",
      "-0.4626881918675363 0.6451572274257444\n",
      "96996.0\n",
      "0.4885311991286714 0.6256646959876409\n",
      "96282.0\n",
      "-0.5396267386798308 0.5906421978965902\n",
      "96424.0\n",
      "0.1879521313036726 0.8512214022714326\n",
      "96289.0\n",
      "-0.3342487973224716 0.740244908679829\n",
      "96107.0\n",
      "-2.540461509795674 0.011999241466313221\n",
      "96123.0\n",
      "-0.7378645190592221 0.46176510094552625\n",
      "97048.0\n",
      "-1.2014988924897518 0.2329343814632031\n",
      "96125.0\n",
      "-0.08619565564321086 0.9314258340812342\n",
      "96265.0\n",
      "0.7890740127144942 0.43150547656638416\n",
      "97024.0\n",
      "-1.2017956869069921 0.23159437928019105\n",
      "96497.0\n",
      "-1.7641949819495355 0.08125009851533394\n",
      "96351.0\n",
      "-0.959510608598736 0.338394596184178\n",
      "96321.0\n",
      "0.647120352062976 0.5197650803213394\n",
      "96982.0\n",
      "0.5155962804982926 0.6070328009911112\n",
      "97116.0\n",
      "1.531715111089782 0.12678115856267402\n",
      "96352.0\n",
      "-0.35987690779726306 0.7194933502569367\n",
      "97023.0\n",
      "-3.057713993030449 0.0025519575330547697\n",
      "96523.0\n",
      "-0.15211196921236306 0.8793308749047178\n",
      "96958.0\n",
      "0.048769824006812616 0.9611787469217825\n",
      "96129.0\n",
      "-0.08531536985970423 0.9322770068102766\n",
      "96368.0\n",
      "1.9511725873388135 0.05192841728928199\n",
      "96212.0\n",
      "-1.931272244636611 0.055441522637579704\n",
      "97083.0\n",
      "1.3350035329338852 0.18317809651039496\n",
      "97039.0\n",
      "-0.7853324448593185 0.43402715741565245\n",
      "96965.0\n",
      "1.1998860882296685 0.23197968479892614\n",
      "96987.0\n",
      "-1.2133778053845359 0.2259242420095208\n",
      "97047.0\n",
      "0.960018064630183 0.338713079463295\n",
      "96222.0\n",
      "-0.3042389902396548 0.7615717668365343\n",
      "96447.0\n",
      "-1.3289801700040431 0.18772904408504829\n",
      "96403.0\n",
      "-0.5943691176236217 0.5537401238703616\n",
      "96370.0\n",
      "-0.06335109182114528 0.9495398831804005\n",
      "96981.0\n",
      "1.5323178941504956 0.12899107650357552\n",
      "96336.0\n",
      "-2.3015983075120388 0.023127254828611585\n",
      "96030.0\n",
      "-1.147034241530848 0.2534423023189672\n",
      "96284.0\n",
      "1.1811738639689573 0.24008117543564544\n",
      "96473.0\n",
      "0.45381660507106514 0.6507605444538272\n",
      "96020.0\n",
      "1.2146024082177298 0.22818205846398892\n",
      "97344.0\n",
      "1.4000514338592585 0.17378628817746716\n",
      "96962.0\n",
      "-1.3385474610878303 0.18203394511026463\n",
      "96475.0\n",
      "1.6041228458413685 0.11193817928397833\n",
      "95992.0\n",
      "0.43233023273256593 0.666869370493141\n",
      "96213.0\n",
      "-2.2434943228042297 0.02669946974774125\n",
      "96488.0\n",
      "0.20592448251626422 0.8370522839902232\n",
      "96506.0\n",
      "0.21716395433571625 0.8283488700399544\n",
      "96229.0\n",
      "0.11576070277384733 0.9079891918073618\n",
      "96525.0\n",
      "-0.030836830163448226 0.9754636875093967\n",
      "96186.0\n",
      "0.23229049511456482 0.8165333552979896\n",
      "96985.0\n",
      "1.2639604423659996 0.20825852591752242\n",
      "96415.0\n",
      "0.5225152244772568 0.6019959297840736\n",
      "97091.0\n",
      "-0.029567270983829105 0.97645070074818\n",
      "96180.0\n",
      "-3.2711909138665396 0.0013270150819625255\n",
      "96169.0\n",
      "-1.2489741826534184 0.21484314971587096\n",
      "96389.0\n",
      "-1.678029524962061 0.09493510921549617\n",
      "96270.0\n",
      "-1.287342118606924 0.20142890402745264\n",
      "97051.0\n",
      "-0.8123649856777363 0.4202162121191956\n",
      "96174.0\n",
      "0.35005495778765816 0.7270975870829668\n",
      "96091.0\n",
      "0.6100094396581114 0.543199043030884\n",
      "96522.0\n",
      "0.4211767868856427 0.6741983777589831\n",
      "96369.0\n",
      "0.608616013977566 0.5435097595411533\n",
      "97001.0\n",
      "-1.4166891326909712 0.1606069996904968\n",
      "96128.0\n",
      "-1.0420369210498461 0.3003150743838082\n",
      "96106.0\n",
      "0.5521033636668148 0.5824166796161936\n",
      "97106.0\n",
      "-2.1391346647974996 0.03406532280136891\n",
      "96006.0\n",
      "-0.009307837723494581 0.992592448922248\n",
      "96514.0\n",
      "1.2206028905524073 0.2253222145666354\n",
      "96337.0\n",
      "0.8153509331653441 0.4163627703684909\n",
      "96109.0\n",
      "-0.8324019526351546 0.40779017766457937\n",
      "96173.0\n",
      "0.8432026318303409 0.401069030605956\n",
      "96008.0\n",
      "-1.654187513022882 0.10244294941800233\n",
      "96120.0\n",
      "-1.5674722353141621 0.11961587081025932\n",
      "96220.0\n",
      "0.238523901298154 0.8121252997341744\n",
      "96160.0\n",
      "0.2376268179469551 0.8128646919314749\n",
      "95995.0\n",
      "-0.8050216895844472 0.44407216375672387\n",
      "97016.0\n",
      "0.19426312010531735 0.8462852186577738\n",
      "96412.0\n",
      "-0.9897250115818693 0.3242674305669173\n",
      "96152.0\n",
      "0.20150310521781062 0.8408042289789492\n",
      "96989.0\n",
      "0.31729434890004615 0.7514585651072498\n",
      "96230.0\n",
      "0.7597155680875586 0.44947836117891526\n",
      "96374.0\n",
      "0.8097957386518023 0.4194517237071823\n",
      "96959.0\n",
      "-1.4165865147759902 0.1589595065690717\n",
      "96024.0\n",
      "0.41161914099818797 0.6812618487737112\n",
      "96045.0\n",
      "-2.0966309447563085 0.038770646702096845\n",
      "97084.0\n",
      "0.34670637490890804 0.7293477858526913\n",
      "96197.0\n",
      "0.12049800333730042 0.9042230578057968\n",
      "96979.0\n",
      "-1.0328840291727026 0.3119548206486609\n",
      "96355.0\n",
      "0.017918123012312506 0.9857346914444927\n",
      "96190.0\n",
      "0.9111465715420145 0.3633316987930073\n",
      "96410.0\n",
      "0.8634170130823514 0.39039641016020477\n",
      "96013.0\n",
      "0.2724459481412005 0.7859174021008852\n",
      "96450.0\n",
      "-0.47861182300741933 0.6330644813186743\n",
      "96983.0\n",
      "0.9601077567365206 0.33881109721215574\n",
      "96117.0\n",
      "-0.39963332315788713 0.6899950735884174\n",
      "97025.0\n",
      "1.898029424809774 0.06285091029665846\n",
      "96513.0\n",
      "-0.9311049554707185 0.3536687195001038\n",
      "96004.0\n",
      "1.1522645804985763 0.25725004579409966\n",
      "96239.0\n",
      "0.1308259276165313 0.8960794375427747\n",
      "96044.0\n",
      "-0.10834347178284208 0.9140470534259191\n",
      "96480.0\n",
      "-1.8364233212077565 0.07151170481849072\n",
      "96393.0\n",
      "1.476990860263772 0.14386495359850102\n",
      "96216.0\n",
      "0.9166699613286639 0.3657722225595623\n",
      "96228.0\n",
      "-0.945939390778867 0.3471007252314815\n",
      "96237.0\n",
      "0.5177861825029799 0.6054807753038088\n",
      "97109.0\n",
      "0.18540407736109868 0.8535272200043531\n",
      "96172.0\n",
      "-0.7402801769737648 0.4606257231848998\n",
      "96490.0\n",
      "-2.2894105431572367 0.02465854694340075\n",
      "96338.0\n",
      "-1.3117499519925666 0.19690240728627598\n",
      "96940.0\n",
      "-1.2596304123533768 0.2113761969681188\n",
      "96095.0\n",
      "-0.5594258650599708 0.5767845381008267\n",
      "97318.0\n",
      "-1.8538369054940933 0.06498439665959498\n",
      "96294.0\n",
      "1.3047052153645655 0.19689412160971959\n",
      "96474.0\n",
      "-1.8516084897234062 0.07080008672405516\n",
      "97004.0\n",
      "-0.6825087599810633 0.49580454682712216\n",
      "96072.0\n",
      "0.5643028722879809 0.576146748767672\n",
      "96000.0\n",
      "-1.7838489556467514 0.07884523388419429\n",
      "97043.0\n",
      "-0.3845957818214906 0.7013965264028945\n",
      "97329.0\n",
      "1.0706993587920692 0.28541247618661336\n",
      "96203.0\n",
      "0.32453258093229 0.7463613051255622\n",
      "96325.0\n",
      "-1.0529586608946135 0.29530944480882043\n",
      "95985.0\n",
      "-1.3889124428215938 0.1696000077837501\n",
      "96384.0\n",
      "0.6902074003837917 0.49150440112654725\n",
      "97018.0\n",
      "-0.033974208085928125 0.9729604292441223\n",
      "97008.0\n",
      "-0.8938177635967436 0.37238735475376894\n",
      "96452.0\n",
      "0.6866736945124167 0.494249536054298\n",
      "96963.0\n",
      "1.2460559071174748 0.2161276340027466\n",
      "96113.0\n",
      "0.23864708423334355 0.8118827082820148\n",
      "96221.0\n",
      "0.8775829830571124 0.38229482125815584\n",
      "97097.0\n",
      "1.7644911991270105 0.07979939731120327\n",
      "96986.0\n",
      "-1.8656481244850167 0.08671576885052089\n",
      "96016.0\n",
      "0.0477145470252818 0.9620856860871433\n",
      "96946.0\n",
      "-0.21157903421524674 0.8334124529101391\n",
      "96507.0\n",
      "0.7106148657134475 0.4785861513018902\n",
      "97037.0\n",
      "-0.42763713926017394 0.6739876619191913\n",
      "96990.0\n",
      "0.9679534778893122 0.33404608927363844\n",
      "96975.0\n",
      "1.421376379527806 0.161065046324374\n",
      "96978.0\n",
      "0.5663829838553327 0.571985570348408\n",
      "96003.0\n",
      "1.050594251502894 0.2970077898538799\n",
      "96162.0\n",
      "-1.055293403095925 0.2935826802040207\n",
      "96206.0\n",
      "0.20151862386959746 0.8405053029299825\n",
      "96485.0\n",
      "0.006702228900921011 0.9946683268844744\n",
      "96021.0\n",
      "0.9005867959105991 0.3754891560692344\n",
      "96420.0\n",
      "0.6613579773902168 0.5116820070666493\n",
      "96438.0\n",
      "-0.9796270548729727 0.3301170742366827\n",
      "96027.0\n",
      "-1.2325641246779235 0.22008917902256891\n",
      "96275.0\n",
      "0.3406576715029472 0.7380855779910143\n",
      "96092.0\n",
      "1.382445117763313 0.17171646151786865\n",
      "96210.0\n",
      "-1.0797344981823327 0.2843127473314614\n",
      "96330.0\n",
      "-0.8489872264598145 0.39768338600200037\n",
      "96291.0\n",
      "0.35346776754032544 0.7247294341404213\n",
      "96037.0\n",
      "-0.5406981773360348 0.5917140466302719\n",
      "97101.0\n",
      "-0.911080613904496 0.36403497089247305\n",
      "96952.0\n",
      "-1.0257285696156302 0.3076801291451453\n",
      "96240.0\n",
      "-1.0364407041936303 0.3037791162202862\n",
      "96324.0\n",
      "-1.2404228809086513 0.22222989874127796\n",
      "96201.0\n",
      "-0.9082703936983988 0.3690434532791196\n",
      "96050.0\n",
      "1.3815282362282453 0.17065430105735438\n",
      "96494.0\n",
      "-1.3260888072469628 0.18728763899078651\n",
      "96469.0\n",
      "0.5598467410363583 0.5765400229370722\n",
      "96948.0\n",
      "-0.4920149912635733 0.6240075699892129\n",
      "96956.0\n",
      "1.0272875871034197 0.3117564759133448\n",
      "97020.0\n",
      "-0.031404707622301055 0.9750106574632582\n",
      "96185.0\n",
      "0.6596831840679618 0.5103997139927403\n",
      "96434.0\n",
      "0.3714600082399324 0.7167706243663807\n",
      "96007.0\n",
      "0.1715534727879057 0.8642506215963999\n",
      "96969.0\n",
      "-1.9270762392741558 0.056186029613939134\n",
      "96217.0\n",
      "0.360846721608784 0.7196758784156863\n",
      "96339.0\n",
      "-1.256855522328302 0.21070892885161407\n",
      "95982.0\n",
      "0.9990303867356853 0.32223578844378997\n",
      "96296.0\n",
      "-0.4971730327507886 0.6206707808306747\n",
      "96342.0\n",
      "0.39281720418154265 0.6950519629829235\n",
      "97107.0\n",
      "0.31597358561988464 0.7525372025355485\n",
      "96159.0\n",
      "-1.4942466038310014 0.13773611454894694\n",
      "97052.0\n",
      "-0.4860486129916054 0.6284294841755348\n",
      "95984.0\n",
      "0.9087688542946293 0.3666818337826717\n",
      "96437.0\n",
      "-0.952451117360131 0.3424981336428997\n",
      "96451.0\n",
      "0.5215209494051983 0.6031022271734177\n",
      "96245.0\n",
      "-0.36033914052283583 0.720537831539277\n",
      "96022.0\n",
      "0.831871366123051 0.4080877654784816\n",
      "96012.0\n",
      "-1.9425599304981456 0.0586364958291125\n",
      "96951.0\n",
      "0.7529905337329678 0.463930370802179\n",
      "96234.0\n",
      "0.506965498554975 0.6166217489470813\n",
      "95993.0\n",
      "0.12940340594287394 0.8979021710105315\n",
      "96479.0\n",
      "-1.7596724112881714 0.08149122109168297\n",
      "96136.0\n",
      "0.793363442281484 0.4347470075581136\n",
      "97067.0\n",
      "-0.21243960006891813 0.8320645156962212\n",
      "96486.0\n",
      "0.26701374780863885 0.7899924537726042\n",
      "95999.0\n",
      "-0.31997857390273515 0.7502918067194697\n",
      "96207.0\n",
      "-1.2991066971946486 0.22047700041584326\n",
      "97094.0\n",
      "0.8875420355997548 0.37912303014239646\n",
      "96083.0\n",
      "0.4560447449384911 0.650032047637505\n",
      "96018.0\n",
      "-1.5442652017316538 0.13039968381799827\n",
      "96161.0\n",
      "0.7345122227479816 0.4637184768111172\n",
      "97298.0\n",
      "1.1961283669422091 0.241334960196194\n",
      "96204.0\n",
      "-1.720655767108738 0.09323947049658338\n",
      "96133.0\n",
      "-0.9674590760438363 0.3384856663616854\n",
      "97319.0\n",
      "0.7311173771343724 0.4652977696235697\n",
      "96135.0\n",
      "-0.07732632543101133 0.9387067478389928\n",
      "96273.0\n",
      "-0.8082990504057179 0.4204790311145705\n",
      "96040.0\n",
      "-0.8316675331639155 0.4085509668637134\n",
      "96043.0\n",
      "-0.790571731403272 0.4330036962820675\n",
      "97027.0\n",
      "-1.7977547536122331 0.07576671118078952\n",
      "96015.0\n",
      "-1.9211807755374624 0.05856075712110828\n",
      "96192.0\n",
      "1.3470084772352462 0.18051576642191197\n",
      "96110.0\n",
      "-1.1988541684376497 0.2344618967123091\n",
      "96939.0\n",
      "-0.5754372013192235 0.566952433948063\n",
      "95987.0\n",
      "0.15605673722297936 0.8774114402325139\n",
      "96957.0\n",
      "-0.48756402726726994 0.6278694530414424\n",
      "96436.0\n",
      "-0.315505914473034 0.7530221797511514\n",
      "96271.0\n",
      "0.7429842982479985 0.45951598226740153\n",
      "96029.0\n",
      "0.04206536766188341 0.9665989283286327\n"
     ]
    },
    {
     "name": "stdout",
     "output_type": "stream",
     "text": [
      "96280.0\n",
      "-0.08265537807552487 0.9343270016413301\n",
      "96246.0\n",
      "1.2940693573090583 0.20224366743723984\n",
      "97113.0\n",
      "-1.4956901290630125 0.1390452764501387\n",
      "95994.0\n",
      "1.2648458113292829 0.2240396331092479\n",
      "96326.0\n",
      "1.3289775713919056 0.19013832115924933\n",
      "96505.0\n",
      "-0.5400869579842497 0.589664198336266\n",
      "96366.0\n",
      "-0.5862607179668362 0.5591359839874483\n",
      "96042.0\n",
      "-1.2186451249690597 0.22858610420680414\n",
      "96241.0\n",
      "-2.3851660790434983 0.01893658132073542\n",
      "96973.0\n",
      "0.6868014653437642 0.5009609963427155\n",
      "96524.0\n",
      "-0.9171144136110498 0.3610188274933085\n",
      "96327.0\n",
      "0.22495438494655495 0.822618512122411\n",
      "97331.0\n",
      "1.451823194057476 0.1898503927213635\n",
      "96320.0\n",
      "-0.578947907219863 0.5652763436923689\n",
      "96046.0\n",
      "0.6153174493111047 0.5399513552798749\n",
      "97079.0\n",
      "0.6599080313799867 0.5109615659139131\n",
      "96238.0\n",
      "0.2217621481401529 0.825548888653966\n",
      "97081.0\n",
      "1.0376323876938298 0.3017376280205572\n",
      "96181.0\n",
      "0.5112810575794602 0.6108605272480232\n",
      "96150.0\n",
      "1.2371108953588505 0.2211184599489659\n",
      "97040.0\n",
      "-0.6157148808391399 0.540820931646208\n",
      "97098.0\n",
      "0.602286890950715 0.5522001602466258\n",
      "95996.0\n",
      "-2.9016195054888 0.006892153183825979\n",
      "96515.0\n",
      "0.5881390645245698 0.5582541630885245\n",
      "96426.0\n",
      "0.9478844158486298 0.3457265282221361\n",
      "96395.0\n",
      "-0.025507935402548327 0.9797082366065812\n",
      "96111.0\n",
      "-0.9820745331652639 0.3314325959144844\n",
      "97323.0\n",
      "-1.0701648600605695 0.28939466355752674\n",
      "96097.0\n",
      "-0.8763405273324743 0.38699472189789275\n",
      "97005.0\n",
      "1.1868838922779443 0.23696917722132063\n",
      "96398.0\n",
      "-1.7480470413089846 0.08379198068250644\n",
      "96218.0\n",
      "-0.19079389023551066 0.8491892357612117\n",
      "96127.0\n",
      "-1.4594774075620152 0.14964978399643192\n",
      "96244.0\n",
      "1.097008647130681 0.27650725723714253\n",
      "97021.0\n",
      "0.7253213066920937 0.4706058443912845\n",
      "96292.0\n",
      "1.181249171566435 0.24002849554291586\n",
      "96087.0\n",
      "0.47264170434645597 0.640738743069919\n",
      "95986.0\n",
      "-1.3007053049700434 0.20976590848458865\n",
      "96215.0\n",
      "-1.915017325086514 0.06231699954614003\n",
      "96104.0\n",
      "-0.13678575473248675 0.8915354286225082\n",
      "96048.0\n",
      "-2.806843860899679 0.010274583148119245\n",
      "96105.0\n",
      "-0.9017611542684715 0.3743669240094515\n",
      "96322.0\n",
      "-0.286769833950142 0.7769719926377816\n",
      "96088.0\n",
      "0.7917999513868895 0.4365678731032876\n",
      "96170.0\n",
      "1.1189623846617758 0.2682020252466025\n",
      "96058.0\n",
      "1.8247993892740788 0.0738910885989586\n",
      "96019.0\n",
      "1.033114896636905 0.32588836842862934\n",
      "96533.0\n",
      "0.8414503607738892 0.40292089050703306\n",
      "96278.0\n",
      "0.37726954575233806 0.707479802089667\n",
      "96323.0\n",
      "-0.77693994487465 0.4535781906402263\n",
      "97006.0\n",
      "-1.690236670813417 0.0944824987549301\n",
      "96943.0\n",
      "0.572588953738109 0.5691748162430528\n",
      "97059.0\n",
      "1.7858171454228637 0.08459085958423823\n",
      "96126.0\n",
      "0.7800533230158643 0.43995108722736964\n",
      "97119.0\n",
      "-1.0987832652752376 0.2976123565148678\n",
      "96119.0\n",
      "-0.14955618228294837 0.8826908896027011\n",
      "96010.0\n",
      "1.0935649015417142 0.29033726410263844\n",
      "399675.0\n",
      "-0.2856680326739044 0.7865888010516005\n",
      "96980.0\n",
      "-0.6705121655825721 0.5274824851206581\n",
      "95988.0\n",
      "0.07512508792944504 0.9412589482645141\n",
      "97324.0\n",
      "-1.1717554057035031 0.27500772880914953\n",
      "96039.0\n",
      "-1.3567348459010367 0.2679305354241583\n",
      "97108.0\n",
      "-5.0200721899943295 0.037464998689702975\n",
      "96038.0\n",
      "-0.9921769570627389 0.35416141217919833\n",
      "96329.0\n",
      "0.42784819167631166 0.690790714484988\n",
      "96151.0\n",
      "-1.8299743490113485 0.07688495960427051\n",
      "96226.0\n",
      "-2.034022746703957 0.2908935507172099\n",
      "96002.0\n",
      "1.02835968429311 0.3794410634379501\n",
      "97177.0\n",
      "nan nan\n",
      "96148.0\n",
      "-0.2388508595720713 0.8266080331284207\n",
      "96009.0\n",
      "-2.7595173481806725 0.018571893526772534\n",
      "95998.0\n",
      "-0.6250895769233956 0.5762305570114352\n",
      "96500.0\n",
      "nan nan\n",
      "95991.0\n",
      "-1.317211121814139 0.3184347154160605\n"
     ]
    }
   ],
   "source": [
    "for zip_code in list_of_zip:\n",
    "    t, p = stats.ttest_1samp(\n",
    "    log_error[log_error['regionidzip'] == zip_code].logerror,\n",
    "    log_error.logerror.mean(),\n",
    "    )\n",
    "    print(zip_code)\n",
    "    print(t, p)"
   ]
  },
  {
   "cell_type": "code",
   "execution_count": 160,
   "id": "a6b05f03",
   "metadata": {},
   "outputs": [
    {
     "name": "stdout",
     "output_type": "stream",
     "text": [
      "96014.0 ,\n",
      "96446.0 ,\n",
      "96465.0 ,\n",
      "96375.0 ,\n",
      "96510.0 ,\n",
      "96026.0 ,\n",
      "96107.0 ,\n",
      "97023.0 ,\n",
      "96336.0 ,\n",
      "96180.0 ,\n",
      "96490.0 ,\n",
      "96241.0 ,\n",
      "95996.0 ,\n",
      "96048.0 ,\n",
      "96009.0 ,\n"
     ]
    }
   ],
   "source": [
    "for zip_code in list_of_zip:\n",
    "    t, p = stats.ttest_1samp(\n",
    "    log_error[log_error['regionidzip'] == zip_code].logerror,\n",
    "    log_error.logerror.mean(),\n",
    "    )\n",
    "    if p < 0.025:\n",
    "        print(zip_code, \",\")"
   ]
  },
  {
   "cell_type": "code",
   "execution_count": 161,
   "id": "8beef295",
   "metadata": {},
   "outputs": [],
   "source": [
    "zip_codes_log_error = [96014.0 ,\n",
    "96446.0 ,\n",
    "96465.0 ,\n",
    "96375.0 ,\n",
    "96510.0 ,\n",
    "96026.0 ,\n",
    "96107.0 ,\n",
    "97023.0 ,\n",
    "96336.0 ,\n",
    "96180.0 ,\n",
    "96490.0 ,\n",
    "96241.0 ,\n",
    "95996.0 ,\n",
    "96048.0 ,\n",
    "96009.0  ]"
   ]
  }
 ],
 "metadata": {
  "kernelspec": {
   "display_name": "Python 3",
   "language": "python",
   "name": "python3"
  },
  "language_info": {
   "codemirror_mode": {
    "name": "ipython",
    "version": 3
   },
   "file_extension": ".py",
   "mimetype": "text/x-python",
   "name": "python",
   "nbconvert_exporter": "python",
   "pygments_lexer": "ipython3",
   "version": "3.8.8"
  }
 },
 "nbformat": 4,
 "nbformat_minor": 5
}
